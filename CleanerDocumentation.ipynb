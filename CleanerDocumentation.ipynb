{
 "cells": [
  {
   "cell_type": "markdown",
   "metadata": {},
   "source": [
    "### Importing data preparation packages"
   ]
  },
  {
   "cell_type": "code",
   "execution_count": 1,
   "metadata": {
    "collapsed": true
   },
   "outputs": [],
   "source": [
    "import numpy as np\n",
    "import pandas as pd\n",
    "import json"
   ]
  },
  {
   "cell_type": "markdown",
   "metadata": {},
   "source": [
    "### Importing training dataset"
   ]
  },
  {
   "cell_type": "code",
   "execution_count": 2,
   "metadata": {
    "collapsed": true
   },
   "outputs": [],
   "source": [
    "train = pd.read_csv('train.csv',dtype = {\"fullVisitorId\":str})"
   ]
  },
  {
   "cell_type": "markdown",
   "metadata": {},
   "source": [
    "### Separating JSON columns to attributes"
   ]
  },
  {
   "cell_type": "code",
   "execution_count": 3,
   "metadata": {
    "collapsed": true
   },
   "outputs": [],
   "source": [
    "totals = train['totals'].apply(lambda x:json.loads(x))\n",
    "totals_head = totals.apply(pd.Series)\n",
    "new_names = [(i,'totals_'+i) for i in totals_head.columns.values]\n",
    "totals_head.rename(columns = dict(new_names), inplace = True)"
   ]
  },
  {
   "cell_type": "code",
   "execution_count": 4,
   "metadata": {
    "collapsed": true
   },
   "outputs": [],
   "source": [
    "device = train['device'].apply(lambda x:json.loads(x))\n",
    "device_head = device.apply(pd.Series)\n",
    "new_names = [(i,'device_'+i) for i in device_head.columns.values]\n",
    "device_head.rename(columns = dict(new_names), inplace = True)"
   ]
  },
  {
   "cell_type": "code",
   "execution_count": 5,
   "metadata": {
    "collapsed": true
   },
   "outputs": [],
   "source": [
    "geoNetwork = train['geoNetwork'].apply(lambda x:json.loads(x))\n",
    "geoNetwork_head = geoNetwork.apply(pd.Series)\n",
    "new_names = [(i,'geoNetwork_'+i) for i in geoNetwork_head.columns.values]\n",
    "geoNetwork_head.rename(columns = dict(new_names), inplace = True)"
   ]
  },
  {
   "cell_type": "code",
   "execution_count": 6,
   "metadata": {
    "collapsed": true
   },
   "outputs": [],
   "source": [
    "trafficSource = train['trafficSource'].apply(lambda x:json.loads(x))\n",
    "trafficSource_head = trafficSource.apply(pd.Series)\n",
    "new_names = [(i,'trafficSource_'+i) for i in trafficSource_head.columns.values]\n",
    "trafficSource_head.rename(columns = dict(new_names), inplace = True)"
   ]
  },
  {
   "cell_type": "markdown",
   "metadata": {},
   "source": [
    "### Removing the JSON original columns "
   ]
  },
  {
   "cell_type": "code",
   "execution_count": 7,
   "metadata": {
    "collapsed": true
   },
   "outputs": [],
   "source": [
    "train.drop(['device','geoNetwork','totals','trafficSource'], axis = 1, inplace = True)"
   ]
  },
  {
   "cell_type": "markdown",
   "metadata": {},
   "source": [
    "### Concatenating the separated JSON attributes to our train dataframe"
   ]
  },
  {
   "cell_type": "code",
   "execution_count": 8,
   "metadata": {
    "collapsed": true
   },
   "outputs": [],
   "source": [
    "train = pd.concat([train,device_head,geoNetwork_head,totals_head,trafficSource_head], axis = 1)"
   ]
  },
  {
   "cell_type": "markdown",
   "metadata": {},
   "source": [
    "### Checking the number of columns"
   ]
  },
  {
   "cell_type": "code",
   "execution_count": 9,
   "metadata": {},
   "outputs": [
    {
     "data": {
      "text/plain": [
       "50"
      ]
     },
     "execution_count": 9,
     "metadata": {},
     "output_type": "execute_result"
    }
   ],
   "source": [
    "len(train.columns)"
   ]
  },
  {
   "cell_type": "markdown",
   "metadata": {},
   "source": [
    "##### The total columns have changed from 12 to 50"
   ]
  },
  {
   "cell_type": "markdown",
   "metadata": {},
   "source": [
    "### Checking the shape of our dataframe"
   ]
  },
  {
   "cell_type": "code",
   "execution_count": 10,
   "metadata": {},
   "outputs": [
    {
     "data": {
      "text/plain": [
       "(903653, 50)"
      ]
     },
     "execution_count": 10,
     "metadata": {},
     "output_type": "execute_result"
    }
   ],
   "source": [
    "train.shape"
   ]
  },
  {
   "cell_type": "markdown",
   "metadata": {},
   "source": [
    "### 903653 rows and 50 columns"
   ]
  },
  {
   "cell_type": "markdown",
   "metadata": {},
   "source": [
    "## Cleaning our data"
   ]
  },
  {
   "cell_type": "markdown",
   "metadata": {},
   "source": [
    "### We will remove any constant columns and columns with more than 50% null entries except for our target variable."
   ]
  },
  {
   "cell_type": "markdown",
   "metadata": {},
   "source": [
    "### First, let's check for null entries % within all columns"
   ]
  },
  {
   "cell_type": "markdown",
   "metadata": {},
   "source": [
    "### Creating a dictionary to store % of null entries"
   ]
  },
  {
   "cell_type": "code",
   "execution_count": 12,
   "metadata": {},
   "outputs": [],
   "source": [
    "dictionary = {}\n",
    "for i in train.columns.values:\n",
    "    val = train[i].isnull().sum()\n",
    "    percent = str(round((val/903653)*100,2))\n",
    "    dictionary[i] = percent"
   ]
  },
  {
   "cell_type": "markdown",
   "metadata": {},
   "source": [
    "### Converting the dictionary to a dataframe for visualization"
   ]
  },
  {
   "cell_type": "code",
   "execution_count": 32,
   "metadata": {},
   "outputs": [],
   "source": [
    "train_null = pd.DataFrame.from_dict(dictionary, orient = 'index')"
   ]
  },
  {
   "cell_type": "code",
   "execution_count": 33,
   "metadata": {
    "collapsed": true
   },
   "outputs": [],
   "source": [
    "train_null.reset_index(level = 0, inplace = True)"
   ]
  },
  {
   "cell_type": "code",
   "execution_count": 34,
   "metadata": {},
   "outputs": [],
   "source": [
    "train_null.columns = ['ColumnName', 'PercentNullEntries']"
   ]
  },
  {
   "cell_type": "code",
   "execution_count": 35,
   "metadata": {
    "collapsed": true
   },
   "outputs": [],
   "source": [
    "train_null['PercentNullEntries'] = train_null['PercentNullEntries'].astype(float)"
   ]
  },
  {
   "cell_type": "code",
   "execution_count": 36,
   "metadata": {},
   "outputs": [],
   "source": [
    "train_null_t10 = train_null.sort_values('PercentNullEntries', axis = 0, ascending = False).head(n = 10)"
   ]
  },
  {
   "cell_type": "markdown",
   "metadata": {},
   "source": [
    "### Visualizing our percentage of Null entries"
   ]
  },
  {
   "cell_type": "markdown",
   "metadata": {},
   "source": [
    "### Only for visualization purposes we create a new variable hue_null in our train_null_t10 df"
   ]
  },
  {
   "cell_type": "code",
   "execution_count": 38,
   "metadata": {
    "collapsed": true
   },
   "outputs": [],
   "source": [
    "train_null_t10['hue_null'] = 0"
   ]
  },
  {
   "cell_type": "markdown",
   "metadata": {},
   "source": [
    "### Replacing hue_null 0 in target variable to be 1"
   ]
  },
  {
   "cell_type": "code",
   "execution_count": 45,
   "metadata": {},
   "outputs": [],
   "source": [
    "train_null_t10.iloc[2,2] = 1"
   ]
  },
  {
   "cell_type": "code",
   "execution_count": 46,
   "metadata": {},
   "outputs": [
    {
     "data": {
      "text/html": [
       "<div>\n",
       "<style>\n",
       "    .dataframe thead tr:only-child th {\n",
       "        text-align: right;\n",
       "    }\n",
       "\n",
       "    .dataframe thead th {\n",
       "        text-align: left;\n",
       "    }\n",
       "\n",
       "    .dataframe tbody tr th {\n",
       "        vertical-align: top;\n",
       "    }\n",
       "</style>\n",
       "<table border=\"1\" class=\"dataframe\">\n",
       "  <thead>\n",
       "    <tr style=\"text-align: right;\">\n",
       "      <th></th>\n",
       "      <th>ColumnName</th>\n",
       "      <th>PercentNullEntries</th>\n",
       "      <th>hue_null</th>\n",
       "    </tr>\n",
       "  </thead>\n",
       "  <tbody>\n",
       "    <tr>\n",
       "      <th>44</th>\n",
       "      <td>trafficSource_campaignCode</td>\n",
       "      <td>100.00</td>\n",
       "      <td>0</td>\n",
       "    </tr>\n",
       "    <tr>\n",
       "      <th>41</th>\n",
       "      <td>trafficSource_adContent</td>\n",
       "      <td>98.79</td>\n",
       "      <td>0</td>\n",
       "    </tr>\n",
       "    <tr>\n",
       "      <th>39</th>\n",
       "      <td>totals_transactionRevenue</td>\n",
       "      <td>98.73</td>\n",
       "      <td>1</td>\n",
       "    </tr>\n",
       "    <tr>\n",
       "      <th>45</th>\n",
       "      <td>trafficSource_isTrueDirect</td>\n",
       "      <td>69.68</td>\n",
       "      <td>0</td>\n",
       "    </tr>\n",
       "    <tr>\n",
       "      <th>48</th>\n",
       "      <td>trafficSource_referralPath</td>\n",
       "      <td>63.38</td>\n",
       "      <td>0</td>\n",
       "    </tr>\n",
       "    <tr>\n",
       "      <th>46</th>\n",
       "      <td>trafficSource_keyword</td>\n",
       "      <td>55.66</td>\n",
       "      <td>0</td>\n",
       "    </tr>\n",
       "    <tr>\n",
       "      <th>35</th>\n",
       "      <td>totals_bounces</td>\n",
       "      <td>50.13</td>\n",
       "      <td>0</td>\n",
       "    </tr>\n",
       "    <tr>\n",
       "      <th>37</th>\n",
       "      <td>totals_newVisits</td>\n",
       "      <td>22.20</td>\n",
       "      <td>0</td>\n",
       "    </tr>\n",
       "    <tr>\n",
       "      <th>38</th>\n",
       "      <td>totals_pageviews</td>\n",
       "      <td>0.01</td>\n",
       "      <td>0</td>\n",
       "    </tr>\n",
       "    <tr>\n",
       "      <th>33</th>\n",
       "      <td>geoNetwork_region</td>\n",
       "      <td>0.00</td>\n",
       "      <td>0</td>\n",
       "    </tr>\n",
       "  </tbody>\n",
       "</table>\n",
       "</div>"
      ],
      "text/plain": [
       "                    ColumnName  PercentNullEntries  hue_null\n",
       "44  trafficSource_campaignCode              100.00         0\n",
       "41     trafficSource_adContent               98.79         0\n",
       "39   totals_transactionRevenue               98.73         1\n",
       "45  trafficSource_isTrueDirect               69.68         0\n",
       "48  trafficSource_referralPath               63.38         0\n",
       "46       trafficSource_keyword               55.66         0\n",
       "35              totals_bounces               50.13         0\n",
       "37            totals_newVisits               22.20         0\n",
       "38            totals_pageviews                0.01         0\n",
       "33           geoNetwork_region                0.00         0"
      ]
     },
     "execution_count": 46,
     "metadata": {},
     "output_type": "execute_result"
    }
   ],
   "source": [
    "train_null_t10"
   ]
  },
  {
   "cell_type": "code",
   "execution_count": 47,
   "metadata": {
    "collapsed": true
   },
   "outputs": [],
   "source": [
    "import matplotlib.pyplot as plt\n",
    "import seaborn as sns\n",
    "%matplotlib inline"
   ]
  },
  {
   "cell_type": "code",
   "execution_count": 82,
   "metadata": {},
   "outputs": [
    {
     "data": {
      "text/plain": [
       "Text(0,0.5,'Column Name')"
      ]
     },
     "execution_count": 82,
     "metadata": {},
     "output_type": "execute_result"
    },
    {
     "data": {
      "image/png": "[encoded data removed]",
      "text/plain": [
       "<matplotlib.figure.Figure at 0x7f3c30cdbcc0>"
      ]
     },
     "metadata": {},
     "output_type": "display_data"
    }
   ],
   "source": [
    "plt.figure(figsize=(12,6))\n",
    "g = sns.barplot(y = 'ColumnName', x = 'PercentNullEntries', hue = 'hue_null', data = train_null_t10, orient = 'h',\n",
    "           color = 'red')\n",
    "#plt.plot([50,50],['totals_pageviews','traffic_campaignCode'], linewidth = 2)\n",
    "plt.legend(loc = 'right')\n",
    "plt.xlabel('Percentage of Null Entries')\n",
    "plt.ylabel('Column Name')"
   ]
  },
  {
   "cell_type": "markdown",
   "metadata": {},
   "source": [
    "### As stated earlier, we will remove the columns with percentage of null entries >= 50"
   ]
  },
  {
   "cell_type": "code",
   "execution_count": 86,
   "metadata": {},
   "outputs": [
    {
     "data": {
      "text/html": [
       "<div>\n",
       "<style>\n",
       "    .dataframe thead tr:only-child th {\n",
       "        text-align: right;\n",
       "    }\n",
       "\n",
       "    .dataframe thead th {\n",
       "        text-align: left;\n",
       "    }\n",
       "\n",
       "    .dataframe tbody tr th {\n",
       "        vertical-align: top;\n",
       "    }\n",
       "</style>\n",
       "<table border=\"1\" class=\"dataframe\">\n",
       "  <thead>\n",
       "    <tr style=\"text-align: right;\">\n",
       "      <th></th>\n",
       "      <th>ColumnName</th>\n",
       "      <th>PercentNullEntries</th>\n",
       "      <th>hue_null</th>\n",
       "    </tr>\n",
       "  </thead>\n",
       "  <tbody>\n",
       "    <tr>\n",
       "      <th>44</th>\n",
       "      <td>trafficSource_campaignCode</td>\n",
       "      <td>100.00</td>\n",
       "      <td>0</td>\n",
       "    </tr>\n",
       "    <tr>\n",
       "      <th>41</th>\n",
       "      <td>trafficSource_adContent</td>\n",
       "      <td>98.79</td>\n",
       "      <td>0</td>\n",
       "    </tr>\n",
       "    <tr>\n",
       "      <th>39</th>\n",
       "      <td>totals_transactionRevenue</td>\n",
       "      <td>98.73</td>\n",
       "      <td>1</td>\n",
       "    </tr>\n",
       "    <tr>\n",
       "      <th>45</th>\n",
       "      <td>trafficSource_isTrueDirect</td>\n",
       "      <td>69.68</td>\n",
       "      <td>0</td>\n",
       "    </tr>\n",
       "    <tr>\n",
       "      <th>48</th>\n",
       "      <td>trafficSource_referralPath</td>\n",
       "      <td>63.38</td>\n",
       "      <td>0</td>\n",
       "    </tr>\n",
       "    <tr>\n",
       "      <th>46</th>\n",
       "      <td>trafficSource_keyword</td>\n",
       "      <td>55.66</td>\n",
       "      <td>0</td>\n",
       "    </tr>\n",
       "    <tr>\n",
       "      <th>35</th>\n",
       "      <td>totals_bounces</td>\n",
       "      <td>50.13</td>\n",
       "      <td>0</td>\n",
       "    </tr>\n",
       "  </tbody>\n",
       "</table>\n",
       "</div>"
      ],
      "text/plain": [
       "                    ColumnName  PercentNullEntries  hue_null\n",
       "44  trafficSource_campaignCode              100.00         0\n",
       "41     trafficSource_adContent               98.79         0\n",
       "39   totals_transactionRevenue               98.73         1\n",
       "45  trafficSource_isTrueDirect               69.68         0\n",
       "48  trafficSource_referralPath               63.38         0\n",
       "46       trafficSource_keyword               55.66         0\n",
       "35              totals_bounces               50.13         0"
      ]
     },
     "execution_count": 86,
     "metadata": {},
     "output_type": "execute_result"
    }
   ],
   "source": [
    "train_null_t10[train_null_t10['PercentNullEntries']>50]"
   ]
  },
  {
   "cell_type": "markdown",
   "metadata": {},
   "source": [
    "### We drop all columns except for the target variable"
   ]
  },
  {
   "cell_type": "code",
   "execution_count": 87,
   "metadata": {
    "collapsed": true
   },
   "outputs": [],
   "source": [
    "null_drop = ['trafficSource_campaignCode','trafficSource_adContent','trafficSource_isTrueDirect',\n",
    "            'trafficSource_referralPath','trafficSource_keyword','totals_bounces']"
   ]
  },
  {
   "cell_type": "code",
   "execution_count": 90,
   "metadata": {},
   "outputs": [
    {
     "data": {
      "text/html": [
       "<div>\n",
       "<style>\n",
       "    .dataframe thead tr:only-child th {\n",
       "        text-align: right;\n",
       "    }\n",
       "\n",
       "    .dataframe thead th {\n",
       "        text-align: left;\n",
       "    }\n",
       "\n",
       "    .dataframe tbody tr th {\n",
       "        vertical-align: top;\n",
       "    }\n",
       "</style>\n",
       "<table border=\"1\" class=\"dataframe\">\n",
       "  <thead>\n",
       "    <tr style=\"text-align: right;\">\n",
       "      <th></th>\n",
       "      <th>ColumnName</th>\n",
       "      <th>PercentNullEntries</th>\n",
       "      <th>hue_null</th>\n",
       "    </tr>\n",
       "  </thead>\n",
       "  <tbody>\n",
       "    <tr>\n",
       "      <th>37</th>\n",
       "      <td>totals_newVisits</td>\n",
       "      <td>22.20</td>\n",
       "      <td>0</td>\n",
       "    </tr>\n",
       "    <tr>\n",
       "      <th>38</th>\n",
       "      <td>totals_pageviews</td>\n",
       "      <td>0.01</td>\n",
       "      <td>0</td>\n",
       "    </tr>\n",
       "    <tr>\n",
       "      <th>33</th>\n",
       "      <td>geoNetwork_region</td>\n",
       "      <td>0.00</td>\n",
       "      <td>0</td>\n",
       "    </tr>\n",
       "  </tbody>\n",
       "</table>\n",
       "</div>"
      ],
      "text/plain": [
       "           ColumnName  PercentNullEntries  hue_null\n",
       "37   totals_newVisits               22.20         0\n",
       "38   totals_pageviews                0.01         0\n",
       "33  geoNetwork_region                0.00         0"
      ]
     },
     "execution_count": 90,
     "metadata": {},
     "output_type": "execute_result"
    }
   ],
   "source": [
    "train_null_t10[train_null_t10['PercentNullEntries']<50]"
   ]
  },
  {
   "cell_type": "markdown",
   "metadata": {},
   "source": [
    "### These null entry column values need to be replaced"
   ]
  },
  {
   "cell_type": "markdown",
   "metadata": {},
   "source": [
    "### Let's check for the distribution of totals_newVisits and totals_pageviews and accordingly see what should it be replaced with: mean or median"
   ]
  },
  {
   "cell_type": "code",
   "execution_count": 95,
   "metadata": {
    "scrolled": false
   },
   "outputs": [
    {
     "data": {
      "text/plain": [
       "(array([462736.,      0.,      0.,      0.,   1959., 101220.,  56236.,\n",
       "         70883.,  31269., 179350.]),\n",
       " array([ -1. ,  20.3,  41.6,  62.9,  84.2, 105.5, 126.8, 148.1, 169.4,\n",
       "        190.7, 212. ]),\n",
       " <a list of 10 Patch objects>)"
      ]
     },
     "execution_count": 95,
     "metadata": {},
     "output_type": "execute_result"
    },
    {
     "data": {
      "image/png": "[encoded data removed]",
      "text/plain": [
       "<matplotlib.figure.Figure at 0x7f3c2bb7f780>"
      ]
     },
     "metadata": {},
     "output_type": "display_data"
    }
   ],
   "source": [
    "plt.figure(figsize = (12,6))\n",
    "plt.hist(train['totals_pageviews'])\n",
    "#plt.xticks(rotation = 90)"
   ]
  },
  {
   "cell_type": "code",
   "execution_count": 97,
   "metadata": {},
   "outputs": [
    {
     "name": "stderr",
     "output_type": "stream",
     "text": [
      "/home/uditennam/anaconda3/lib/python3.6/site-packages/statsmodels/nonparametric/kde.py:454: RuntimeWarning: invalid value encountered in greater\n",
      "  X = X[np.logical_and(X>clip[0], X<clip[1])] # won't work for two columns.\n",
      "/home/uditennam/anaconda3/lib/python3.6/site-packages/statsmodels/nonparametric/kde.py:454: RuntimeWarning: invalid value encountered in less\n",
      "  X = X[np.logical_and(X>clip[0], X<clip[1])] # won't work for two columns.\n",
      "/home/uditennam/anaconda3/lib/python3.6/site-packages/scipy/stats/stats.py:1713: FutureWarning: Using a non-tuple sequence for multidimensional indexing is deprecated; use `arr[tuple(seq)]` instead of `arr[seq]`. In the future this will be interpreted as an array index, `arr[np.array(seq)]`, which will result either in an error or a different result.\n",
      "  return np.add.reduce(sorted[indexer] * weights, axis=axis) / sumval\n"
     ]
    },
    {
     "data": {
      "text/plain": [
       "<matplotlib.axes._subplots.AxesSubplot at 0x7f3c2d906550>"
      ]
     },
     "execution_count": 97,
     "metadata": {},
     "output_type": "execute_result"
    },
    {
     "data": {
      "image/png": "[encoded data removed]",
      "text/plain": [
       "<matplotlib.figure.Figure at 0x7f3c2d9257f0>"
      ]
     },
     "metadata": {},
     "output_type": "display_data"
    }
   ],
   "source": [
    "plt.figure(figsize = (12,5))\n",
    "sns.kdeplot(data = train['totals_pageviews'])"
   ]
  },
  {
   "cell_type": "markdown",
   "metadata": {},
   "source": [
    "### Transforming totals_pageviews plot to normal through log and then based on the mean or median obtained, we take an anti-log of it"
   ]
  },
  {
   "cell_type": "code",
   "execution_count": 119,
   "metadata": {},
   "outputs": [],
   "source": [
    "import stats"
   ]
  },
  {
   "cell_type": "code",
   "execution_count": 121,
   "metadata": {
    "collapsed": true
   },
   "outputs": [],
   "source": [
    "import scipy"
   ]
  },
  {
   "cell_type": "code",
   "execution_count": 131,
   "metadata": {},
   "outputs": [],
   "source": [
    "#sns.kdeplot(data = scipy.stats.boxcox(train['totals_pageviews'].astype('float'), lmbda = 50))"
   ]
  },
  {
   "cell_type": "code",
   "execution_count": 134,
   "metadata": {},
   "outputs": [],
   "source": [
    "#sns.kdeplot(data = np.linalg.inv(train['totals_pageviews'].astype('float')))"
   ]
  },
  {
   "cell_type": "code",
   "execution_count": 179,
   "metadata": {},
   "outputs": [
    {
     "data": {
      "text/plain": [
       "1.180024146291143"
      ]
     },
     "execution_count": 179,
     "metadata": {},
     "output_type": "execute_result"
    }
   ],
   "source": [
    "np.log(np.power(train['totals_pageviews'].astype('float'),3)).skew()"
   ]
  },
  {
   "cell_type": "code",
   "execution_count": 178,
   "metadata": {},
   "outputs": [
    {
     "data": {
      "text/plain": [
       "0.65851534185364"
      ]
     },
     "execution_count": 178,
     "metadata": {},
     "output_type": "execute_result"
    }
   ],
   "source": [
    "np.log(np.power(train['totals_pageviews'].astype('float'),3)).kurtosis()"
   ]
  },
  {
   "cell_type": "markdown",
   "metadata": {},
   "source": [
    "### Skewness close to 0 and kurtosis close to 3 is considered symmetric data, so we transform our data in order tp be gaussian-like to find out the median or mean"
   ]
  },
  {
   "cell_type": "code",
   "execution_count": 182,
   "metadata": {},
   "outputs": [
    {
     "name": "stderr",
     "output_type": "stream",
     "text": [
      "/home/uditennam/anaconda3/lib/python3.6/site-packages/statsmodels/nonparametric/kde.py:454: RuntimeWarning: invalid value encountered in greater\n",
      "  X = X[np.logical_and(X>clip[0], X<clip[1])] # won't work for two columns.\n",
      "/home/uditennam/anaconda3/lib/python3.6/site-packages/statsmodels/nonparametric/kde.py:454: RuntimeWarning: invalid value encountered in less\n",
      "  X = X[np.logical_and(X>clip[0], X<clip[1])] # won't work for two columns.\n",
      "/home/uditennam/anaconda3/lib/python3.6/site-packages/scipy/stats/stats.py:1713: FutureWarning: Using a non-tuple sequence for multidimensional indexing is deprecated; use `arr[tuple(seq)]` instead of `arr[seq]`. In the future this will be interpreted as an array index, `arr[np.array(seq)]`, which will result either in an error or a different result.\n",
      "  return np.add.reduce(sorted[indexer] * weights, axis=axis) / sumval\n"
     ]
    },
    {
     "data": {
      "text/plain": [
       "<matplotlib.axes._subplots.AxesSubplot at 0x7f3c25788710>"
      ]
     },
     "execution_count": 182,
     "metadata": {},
     "output_type": "execute_result"
    },
    {
     "data": {
      "image/png": "[encoded data removed]",
      "text/plain": [
       "<matplotlib.figure.Figure at 0x7f3c252e9240>"
      ]
     },
     "metadata": {},
     "output_type": "display_data"
    }
   ],
   "source": [
    "sns.kdeplot(data = np.log(np.power(train['totals_pageviews'].astype('float'),3)))"
   ]
  },
  {
   "cell_type": "code",
   "execution_count": 154,
   "metadata": {},
   "outputs": [
    {
     "data": {
      "text/plain": [
       "4.606377813510524"
      ]
     },
     "execution_count": 154,
     "metadata": {},
     "output_type": "execute_result"
    }
   ],
   "source": [
    "np.power(np.log1p(train['totals_pageviews'].astype('float')),3).skew()"
   ]
  },
  {
   "cell_type": "code",
   "execution_count": 151,
   "metadata": {
    "collapsed": true
   },
   "outputs": [],
   "source": [
    "# Skewness above +1 or -1 is considered highly skewed - initial 9.21"
   ]
  },
  {
   "cell_type": "code",
   "execution_count": 167,
   "metadata": {},
   "outputs": [
    {
     "data": {
      "text/plain": [
       "9.215055489104996"
      ]
     },
     "execution_count": 167,
     "metadata": {},
     "output_type": "execute_result"
    }
   ],
   "source": [
    "train['totals_pageviews'].astype('float').skew()"
   ]
  },
  {
   "cell_type": "code",
   "execution_count": 168,
   "metadata": {},
   "outputs": [
    {
     "data": {
      "text/plain": [
       "237.41487926413637"
      ]
     },
     "execution_count": 168,
     "metadata": {},
     "output_type": "execute_result"
    }
   ],
   "source": [
    "train['totals_pageviews'].astype('float').kurtosis()"
   ]
  },
  {
   "cell_type": "code",
   "execution_count": 144,
   "metadata": {},
   "outputs": [
    {
     "name": "stderr",
     "output_type": "stream",
     "text": [
      "/home/uditennam/anaconda3/lib/python3.6/site-packages/statsmodels/nonparametric/kde.py:454: RuntimeWarning: invalid value encountered in greater\n",
      "  X = X[np.logical_and(X>clip[0], X<clip[1])] # won't work for two columns.\n",
      "/home/uditennam/anaconda3/lib/python3.6/site-packages/statsmodels/nonparametric/kde.py:454: RuntimeWarning: invalid value encountered in less\n",
      "  X = X[np.logical_and(X>clip[0], X<clip[1])] # won't work for two columns.\n",
      "/home/uditennam/anaconda3/lib/python3.6/site-packages/scipy/stats/stats.py:1713: FutureWarning: Using a non-tuple sequence for multidimensional indexing is deprecated; use `arr[tuple(seq)]` instead of `arr[seq]`. In the future this will be interpreted as an array index, `arr[np.array(seq)]`, which will result either in an error or a different result.\n",
      "  return np.add.reduce(sorted[indexer] * weights, axis=axis) / sumval\n"
     ]
    },
    {
     "data": {
      "text/plain": [
       "<matplotlib.axes._subplots.AxesSubplot at 0x7f3c25c2ecc0>"
      ]
     },
     "execution_count": 144,
     "metadata": {},
     "output_type": "execute_result"
    },
    {
     "data": {
      "image/png": "[encoded data removed]",
      "text/plain": [
       "<matplotlib.figure.Figure at 0x7f3c25cfaf60>"
      ]
     },
     "metadata": {},
     "output_type": "display_data"
    }
   ],
   "source": [
    "plt.figure(figsize = (12,5))\n",
    "sns.kdeplot(data = train['totals_pageviews'].astype('float'))"
   ]
  },
  {
   "cell_type": "markdown",
   "metadata": {},
   "source": [
    "### For our basic model requirements, let's just replace null entries with the median of the column"
   ]
  },
  {
   "cell_type": "code",
   "execution_count": 187,
   "metadata": {},
   "outputs": [],
   "source": [
    "train['totals_pageviews'] = train['totals_pageviews'].fillna(train['totals_pageviews'].astype('float').median())"
   ]
  },
  {
   "cell_type": "code",
   "execution_count": 191,
   "metadata": {},
   "outputs": [
    {
     "data": {
      "text/plain": [
       "1    703060\n",
       "Name: totals_newVisits, dtype: int64"
      ]
     },
     "execution_count": 191,
     "metadata": {},
     "output_type": "execute_result"
    }
   ],
   "source": [
    "train['totals_newVisits'].value_counts() # yes -> 1 || no -> 0 "
   ]
  },
  {
   "cell_type": "code",
   "execution_count": 193,
   "metadata": {},
   "outputs": [],
   "source": [
    "train['totals_newVisits'] = train['totals_newVisits'].fillna(0)"
   ]
  },
  {
   "cell_type": "markdown",
   "metadata": {},
   "source": [
    "### Dropping columns with null entry % > 50"
   ]
  },
  {
   "cell_type": "code",
   "execution_count": 196,
   "metadata": {},
   "outputs": [],
   "source": [
    "train.drop(null_drop, axis = 1, inplace = True)"
   ]
  },
  {
   "cell_type": "code",
   "execution_count": 197,
   "metadata": {},
   "outputs": [
    {
     "data": {
      "text/plain": [
       "(903653, 44)"
      ]
     },
     "execution_count": 197,
     "metadata": {},
     "output_type": "execute_result"
    }
   ],
   "source": [
    "train.shape"
   ]
  },
  {
   "cell_type": "markdown",
   "metadata": {},
   "source": [
    "### 44 non-null columns"
   ]
  },
  {
   "cell_type": "markdown",
   "metadata": {},
   "source": [
    "### Removing columns with constant values"
   ]
  },
  {
   "cell_type": "code",
   "execution_count": 199,
   "metadata": {},
   "outputs": [],
   "source": [
    "train = train.loc[:, (train != train.iloc[0]).any()] # train_nc -> train dataframe with non-constant columns"
   ]
  },
  {
   "cell_type": "code",
   "execution_count": 200,
   "metadata": {},
   "outputs": [
    {
     "data": {
      "text/plain": [
       "(903653, 26)"
      ]
     },
     "execution_count": 200,
     "metadata": {},
     "output_type": "execute_result"
    }
   ],
   "source": [
    "train.shape"
   ]
  },
  {
   "cell_type": "markdown",
   "metadata": {},
   "source": [
    "### Now, we have 26 non-null and non-constant columns remaining"
   ]
  },
  {
   "cell_type": "markdown",
   "metadata": {},
   "source": [
    "### Let's create a new column which categorizes our target variables to 1 and 0, with 1 being revenue > 0, and 0 being null, which will be converted to 0."
   ]
  },
  {
   "cell_type": "code",
   "execution_count": 202,
   "metadata": {},
   "outputs": [
    {
     "name": "stderr",
     "output_type": "stream",
     "text": [
      "/home/uditennam/anaconda3/lib/python3.6/site-packages/ipykernel_launcher.py:1: SettingWithCopyWarning: \n",
      "A value is trying to be set on a copy of a slice from a DataFrame.\n",
      "Try using .loc[row_indexer,col_indexer] = value instead\n",
      "\n",
      "See the caveats in the documentation: http://pandas.pydata.org/pandas-docs/stable/indexing.html#indexing-view-versus-copy\n",
      "  \"\"\"Entry point for launching an IPython kernel.\n"
     ]
    }
   ],
   "source": [
    "train['totals_transactionRevenue'] = train['totals_transactionRevenue'].fillna(0)"
   ]
  },
  {
   "cell_type": "code",
   "execution_count": 214,
   "metadata": {},
   "outputs": [],
   "source": [
    "def revenue_cat(x):\n",
    "    if x > 0:\n",
    "        return 1\n",
    "    else:\n",
    "        return 0"
   ]
  },
  {
   "cell_type": "code",
   "execution_count": 210,
   "metadata": {},
   "outputs": [
    {
     "data": {
      "text/plain": [
       "0"
      ]
     },
     "execution_count": 210,
     "metadata": {},
     "output_type": "execute_result"
    }
   ],
   "source": [
    "train['totals_transactionRevenue'][90]"
   ]
  },
  {
   "cell_type": "code",
   "execution_count": 217,
   "metadata": {},
   "outputs": [],
   "source": [
    "train['revenue_category']=train['totals_transactionRevenue'].astype('float').apply(lambda x:revenue_cat(x))"
   ]
  },
  {
   "cell_type": "code",
   "execution_count": 218,
   "metadata": {
    "collapsed": true
   },
   "outputs": [],
   "source": [
    "train['totals_transactionRevenue'] = train['totals_transactionRevenue'].astype('float')"
   ]
  },
  {
   "cell_type": "code",
   "execution_count": 219,
   "metadata": {},
   "outputs": [
    {
     "data": {
      "text/plain": [
       "(903653, 27)"
      ]
     },
     "execution_count": 219,
     "metadata": {},
     "output_type": "execute_result"
    }
   ],
   "source": [
    "train.shape"
   ]
  },
  {
   "cell_type": "markdown",
   "metadata": {},
   "source": [
    "### 27 features in total out of which totals_transactionRevenue will be the target variable for regression models and revenue_category will be the target variable for classification models. So, technically, only 25 features need to be explored and visualized."
   ]
  },
  {
   "cell_type": "markdown",
   "metadata": {},
   "source": [
    "### Let's check these columns one by one again for any anomalies and eliminate them if necessary"
   ]
  },
  {
   "cell_type": "code",
   "execution_count": 225,
   "metadata": {},
   "outputs": [
    {
     "data": {
      "text/plain": [
       "Index(['channelGrouping', 'date', 'fullVisitorId', 'sessionId', 'visitId',\n",
       "       'visitNumber', 'visitStartTime', 'device_browser',\n",
       "       'device_deviceCategory', 'device_isMobile', 'device_operatingSystem',\n",
       "       'geoNetwork_city', 'geoNetwork_continent', 'geoNetwork_country',\n",
       "       'geoNetwork_metro', 'geoNetwork_networkDomain', 'geoNetwork_region',\n",
       "       'geoNetwork_subContinent', 'totals_hits', 'totals_newVisits',\n",
       "       'totals_pageviews', 'totals_transactionRevenue',\n",
       "       'trafficSource_adwordsClickInfo', 'trafficSource_campaign',\n",
       "       'trafficSource_medium', 'trafficSource_source', 'revenue_category'],\n",
       "      dtype='object')"
      ]
     },
     "execution_count": 225,
     "metadata": {},
     "output_type": "execute_result"
    }
   ],
   "source": [
    "train.columns"
   ]
  },
  {
   "cell_type": "code",
   "execution_count": 221,
   "metadata": {},
   "outputs": [
    {
     "data": {
      "text/plain": [
       "Organic Search    381561\n",
       "Social            226117\n",
       "Direct            143026\n",
       "Referral          104838\n",
       "Paid Search        25326\n",
       "Affiliates         16403\n",
       "Display             6262\n",
       "(Other)              120\n",
       "Name: channelGrouping, dtype: int64"
      ]
     },
     "execution_count": 221,
     "metadata": {},
     "output_type": "execute_result"
    }
   ],
   "source": [
    "train['channelGrouping'].value_counts()"
   ]
  },
  {
   "cell_type": "code",
   "execution_count": 224,
   "metadata": {},
   "outputs": [],
   "source": [
    "train['channelGrouping'] = train['channelGrouping'].replace('(Other)', 'Other')"
   ]
  },
  {
   "cell_type": "code",
   "execution_count": 229,
   "metadata": {},
   "outputs": [
    {
     "data": {
      "text/plain": [
       "20160801"
      ]
     },
     "execution_count": 229,
     "metadata": {},
     "output_type": "execute_result"
    }
   ],
   "source": [
    "train['date'].min()"
   ]
  },
  {
   "cell_type": "code",
   "execution_count": 230,
   "metadata": {},
   "outputs": [
    {
     "data": {
      "text/plain": [
       "20170801"
      ]
     },
     "execution_count": 230,
     "metadata": {},
     "output_type": "execute_result"
    }
   ],
   "source": [
    "train['date'].max()"
   ]
  },
  {
   "cell_type": "markdown",
   "metadata": {},
   "source": [
    "### The date range of this dataset is Aug 1st, 2016 to Aug 1st, 2017 (effectively a year's data)"
   ]
  },
  {
   "cell_type": "code",
   "execution_count": 231,
   "metadata": {},
   "outputs": [
    {
     "data": {
      "text/plain": [
       "0    1472830385\n",
       "1    1472880147\n",
       "2    1472865386\n",
       "3    1472881213\n",
       "4    1472822600\n",
       "Name: visitStartTime, dtype: int64"
      ]
     },
     "execution_count": 231,
     "metadata": {},
     "output_type": "execute_result"
    }
   ],
   "source": [
    "train['visitStartTime'].head()"
   ]
  },
  {
   "cell_type": "markdown",
   "metadata": {},
   "source": [
    "### train['visitStartTime'] values are in POSIX time which can be converted to datetime format"
   ]
  },
  {
   "cell_type": "code",
   "execution_count": 233,
   "metadata": {
    "collapsed": true
   },
   "outputs": [],
   "source": [
    "new_drop = []"
   ]
  },
  {
   "cell_type": "code",
   "execution_count": 234,
   "metadata": {},
   "outputs": [],
   "source": [
    "new_drop.append('date')"
   ]
  },
  {
   "cell_type": "code",
   "execution_count": 235,
   "metadata": {
    "collapsed": true
   },
   "outputs": [],
   "source": [
    "from datetime import datetime\n",
    "import time"
   ]
  },
  {
   "cell_type": "code",
   "execution_count": 242,
   "metadata": {},
   "outputs": [],
   "source": [
    "train['visitStartTime'] = train['visitStartTime'].apply(lambda x:time.strftime('%Y-%m-%d %H:%M:%S', time.localtime(x)))"
   ]
  },
  {
   "cell_type": "code",
   "execution_count": 244,
   "metadata": {},
   "outputs": [],
   "source": [
    "train['visitStartTime'] = train['visitStartTime'].apply(lambda x:datetime.strptime(x, '%Y-%m-%d %H:%M:%S'))"
   ]
  },
  {
   "cell_type": "code",
   "execution_count": 245,
   "metadata": {
    "collapsed": true
   },
   "outputs": [],
   "source": [
    "train['visitDate'] = train['visitStartTime'].apply(lambda x: x.date())\n",
    "train['visitTime'] = train['visitStartTime'].apply(lambda x: x.time())"
   ]
  },
  {
   "cell_type": "code",
   "execution_count": 246,
   "metadata": {
    "collapsed": true
   },
   "outputs": [],
   "source": [
    "new_drop.append('visitStartTime')"
   ]
  },
  {
   "cell_type": "code",
   "execution_count": 247,
   "metadata": {},
   "outputs": [
    {
     "data": {
      "text/plain": [
       "902755"
      ]
     },
     "execution_count": 247,
     "metadata": {},
     "output_type": "execute_result"
    }
   ],
   "source": [
    "len(train['sessionId'].unique())"
   ]
  },
  {
   "cell_type": "code",
   "execution_count": 248,
   "metadata": {
    "collapsed": true
   },
   "outputs": [],
   "source": [
    "# not a useful column\n",
    "new_drop.append('sessionId')"
   ]
  },
  {
   "cell_type": "code",
   "execution_count": 249,
   "metadata": {},
   "outputs": [
    {
     "data": {
      "text/plain": [
       "886303"
      ]
     },
     "execution_count": 249,
     "metadata": {},
     "output_type": "execute_result"
    }
   ],
   "source": [
    "len(train['visitId'].unique())"
   ]
  },
  {
   "cell_type": "code",
   "execution_count": 250,
   "metadata": {
    "collapsed": true
   },
   "outputs": [],
   "source": [
    "# not a useful column\n",
    "new_drop.append('visitId')"
   ]
  },
  {
   "cell_type": "code",
   "execution_count": 253,
   "metadata": {},
   "outputs": [
    {
     "data": {
      "text/plain": [
       "54"
      ]
     },
     "execution_count": 253,
     "metadata": {},
     "output_type": "execute_result"
    }
   ],
   "source": [
    "len(train['device_browser'].unique())"
   ]
  },
  {
   "cell_type": "code",
   "execution_count": 254,
   "metadata": {},
   "outputs": [
    {
     "data": {
      "text/plain": [
       "Chrome                                         620364\n",
       "Safari                                         182245\n",
       "Firefox                                         37069\n",
       "Internet Explorer                               19375\n",
       "Edge                                            10205\n",
       "Android Webview                                  7865\n",
       "Safari (in-app)                                  6850\n",
       "Opera Mini                                       6139\n",
       "Opera                                            5643\n",
       "UC Browser                                       2427\n",
       "YaBrowser                                        2096\n",
       "Coc Coc                                           727\n",
       "Amazon Silk                                       561\n",
       "Android Browser                                   553\n",
       "Mozilla Compatible Agent                          374\n",
       "MRCHROME                                          263\n",
       "Maxthon                                           246\n",
       "BlackBerry                                        184\n",
       "Nintendo Browser                                  140\n",
       "Puffin                                             93\n",
       "Nokia Browser                                      67\n",
       "Iron                                               33\n",
       "LYF_LS_4002_12                                     21\n",
       "SeaMonkey                                          15\n",
       "Seznam                                             11\n",
       "Mozilla                                            11\n",
       "Apple-iPhone7C2                                     9\n",
       "(not set)                                           8\n",
       "Nichrome                                            7\n",
       "0                                                   7\n",
       "Lunascape                                           5\n",
       "osee2unifiedRelease                                 5\n",
       "DASH_JR_3G                                          4\n",
       "no-ua                                               3\n",
       "LYF_LS_4002_11                                      3\n",
       "ThumbSniper                                         3\n",
       "MQQBrowser                                          2\n",
       "YE                                                  2\n",
       "Android Runtime                                     2\n",
       "NokiaE52-1                                          2\n",
       "Hisense M20-M_LTE                                   1\n",
       "User Agent                                          1\n",
       "TCL P500M                                           1\n",
       "CSM Click                                           1\n",
       "Changa 99695759                                     1\n",
       "DoCoMo                                              1\n",
       "M5                                                  1\n",
       "subjectAgent: NoticiasBoom                          1\n",
       "HTC802t_TD                                          1\n",
       "[Use default User-agent string] LIVRENPOCHE         1\n",
       "ADM                                                 1\n",
       "Konqueror                                           1\n",
       "IE with Chrome Frame                                1\n",
       "Reddit                                              1\n",
       "Name: device_browser, dtype: int64"
      ]
     },
     "execution_count": 254,
     "metadata": {},
     "output_type": "execute_result"
    }
   ],
   "source": [
    "train['device_browser'].value_counts()"
   ]
  },
  {
   "cell_type": "code",
   "execution_count": 255,
   "metadata": {},
   "outputs": [
    {
     "data": {
      "text/plain": [
       "3"
      ]
     },
     "execution_count": 255,
     "metadata": {},
     "output_type": "execute_result"
    }
   ],
   "source": [
    "len(train['device_deviceCategory'].unique())"
   ]
  },
  {
   "cell_type": "code",
   "execution_count": 256,
   "metadata": {},
   "outputs": [
    {
     "data": {
      "text/plain": [
       "desktop    664479\n",
       "mobile     208725\n",
       "tablet      30449\n",
       "Name: device_deviceCategory, dtype: int64"
      ]
     },
     "execution_count": 256,
     "metadata": {},
     "output_type": "execute_result"
    }
   ],
   "source": [
    "train['device_deviceCategory'].value_counts()"
   ]
  },
  {
   "cell_type": "code",
   "execution_count": 257,
   "metadata": {},
   "outputs": [
    {
     "data": {
      "text/plain": [
       "2"
      ]
     },
     "execution_count": 257,
     "metadata": {},
     "output_type": "execute_result"
    }
   ],
   "source": [
    "len(train['device_isMobile'].unique())"
   ]
  },
  {
   "cell_type": "code",
   "execution_count": 258,
   "metadata": {},
   "outputs": [
    {
     "data": {
      "text/plain": [
       "False    664530\n",
       "True     239123\n",
       "Name: device_isMobile, dtype: int64"
      ]
     },
     "execution_count": 258,
     "metadata": {},
     "output_type": "execute_result"
    }
   ],
   "source": [
    "train['device_isMobile'].value_counts()"
   ]
  },
  {
   "cell_type": "code",
   "execution_count": 265,
   "metadata": {},
   "outputs": [],
   "source": [
    "train['device_isMobile'] = train['device_isMobile'].astype('str')"
   ]
  },
  {
   "cell_type": "code",
   "execution_count": 267,
   "metadata": {},
   "outputs": [],
   "source": [
    "train['device_isMobile'] = train['device_isMobile'].replace('True',1).replace('False',0)"
   ]
  },
  {
   "cell_type": "code",
   "execution_count": 268,
   "metadata": {},
   "outputs": [
    {
     "data": {
      "text/plain": [
       "20"
      ]
     },
     "execution_count": 268,
     "metadata": {},
     "output_type": "execute_result"
    }
   ],
   "source": [
    "len(train['device_operatingSystem'].unique())"
   ]
  },
  {
   "cell_type": "code",
   "execution_count": 269,
   "metadata": {},
   "outputs": [
    {
     "data": {
      "text/plain": [
       "Windows          350072\n",
       "Macintosh        253938\n",
       "Android          123892\n",
       "iOS              107665\n",
       "Linux             35034\n",
       "Chrome OS         26337\n",
       "(not set)          4695\n",
       "Windows Phone      1216\n",
       "Samsung             280\n",
       "BlackBerry          218\n",
       "Nintendo Wii        100\n",
       "Firefox OS           89\n",
       "Xbox                 66\n",
       "Nintendo WiiU        35\n",
       "FreeBSD               9\n",
       "OpenBSD               2\n",
       "Nokia                 2\n",
       "Nintendo 3DS          1\n",
       "SunOS                 1\n",
       "NTT DoCoMo            1\n",
       "Name: device_operatingSystem, dtype: int64"
      ]
     },
     "execution_count": 269,
     "metadata": {},
     "output_type": "execute_result"
    }
   ],
   "source": [
    "train['device_operatingSystem'].value_counts()"
   ]
  },
  {
   "cell_type": "markdown",
   "metadata": {},
   "source": [
    "### We have 4 device specific columns "
   ]
  },
  {
   "cell_type": "code",
   "execution_count": 270,
   "metadata": {},
   "outputs": [
    {
     "data": {
      "text/plain": [
       "Index(['channelGrouping', 'date', 'fullVisitorId', 'sessionId', 'visitId',\n",
       "       'visitNumber', 'visitStartTime', 'device_browser',\n",
       "       'device_deviceCategory', 'device_isMobile', 'device_operatingSystem',\n",
       "       'geoNetwork_city', 'geoNetwork_continent', 'geoNetwork_country',\n",
       "       'geoNetwork_metro', 'geoNetwork_networkDomain', 'geoNetwork_region',\n",
       "       'geoNetwork_subContinent', 'totals_hits', 'totals_newVisits',\n",
       "       'totals_pageviews', 'totals_transactionRevenue',\n",
       "       'trafficSource_adwordsClickInfo', 'trafficSource_campaign',\n",
       "       'trafficSource_medium', 'trafficSource_source', 'revenue_category',\n",
       "       'visitDate', 'visitTime'],\n",
       "      dtype='object')"
      ]
     },
     "execution_count": 270,
     "metadata": {},
     "output_type": "execute_result"
    }
   ],
   "source": [
    "train.columns"
   ]
  },
  {
   "cell_type": "code",
   "execution_count": 271,
   "metadata": {},
   "outputs": [
    {
     "data": {
      "text/plain": [
       "649"
      ]
     },
     "execution_count": 271,
     "metadata": {},
     "output_type": "execute_result"
    }
   ],
   "source": [
    "len(train['geoNetwork_city'].unique())"
   ]
  },
  {
   "cell_type": "code",
   "execution_count": 272,
   "metadata": {},
   "outputs": [
    {
     "data": {
      "text/plain": [
       "6"
      ]
     },
     "execution_count": 272,
     "metadata": {},
     "output_type": "execute_result"
    }
   ],
   "source": [
    "len(train['geoNetwork_continent'].unique())"
   ]
  },
  {
   "cell_type": "code",
   "execution_count": 273,
   "metadata": {},
   "outputs": [
    {
     "data": {
      "text/plain": [
       "222"
      ]
     },
     "execution_count": 273,
     "metadata": {},
     "output_type": "execute_result"
    }
   ],
   "source": [
    "len(train['geoNetwork_country'].unique())"
   ]
  },
  {
   "cell_type": "code",
   "execution_count": 274,
   "metadata": {},
   "outputs": [
    {
     "data": {
      "text/plain": [
       "94"
      ]
     },
     "execution_count": 274,
     "metadata": {},
     "output_type": "execute_result"
    }
   ],
   "source": [
    "len(train['geoNetwork_metro'].unique())"
   ]
  },
  {
   "cell_type": "code",
   "execution_count": 275,
   "metadata": {},
   "outputs": [
    {
     "data": {
      "text/plain": [
       "28064"
      ]
     },
     "execution_count": 275,
     "metadata": {},
     "output_type": "execute_result"
    }
   ],
   "source": [
    "len(train['geoNetwork_networkDomain'].unique())"
   ]
  },
  {
   "cell_type": "code",
   "execution_count": 276,
   "metadata": {},
   "outputs": [
    {
     "data": {
      "text/plain": [
       "376"
      ]
     },
     "execution_count": 276,
     "metadata": {},
     "output_type": "execute_result"
    }
   ],
   "source": [
    "len(train['geoNetwork_region'].unique())"
   ]
  },
  {
   "cell_type": "code",
   "execution_count": 279,
   "metadata": {},
   "outputs": [
    {
     "data": {
      "text/plain": [
       "(not set)              244881\n",
       "unknown.unknown        146034\n",
       "comcast.net             28743\n",
       "rr.com                  14827\n",
       "verizon.net             13637\n",
       "ttnet.com.tr            13228\n",
       "comcastbusiness.net      9985\n",
       "hinet.net                7919\n",
       "virginm.net              6414\n",
       "3bb.co.th                6046\n",
       "Name: geoNetwork_networkDomain, dtype: int64"
      ]
     },
     "execution_count": 279,
     "metadata": {},
     "output_type": "execute_result"
    }
   ],
   "source": [
    "train['geoNetwork_networkDomain'].value_counts().head(n = 10)"
   ]
  },
  {
   "cell_type": "code",
   "execution_count": 280,
   "metadata": {
    "collapsed": true
   },
   "outputs": [],
   "source": [
    "new_drop.append('geoNetwork_networkDomain')"
   ]
  },
  {
   "cell_type": "code",
   "execution_count": 282,
   "metadata": {},
   "outputs": [
    {
     "data": {
      "text/plain": [
       "23"
      ]
     },
     "execution_count": 282,
     "metadata": {},
     "output_type": "execute_result"
    }
   ],
   "source": [
    "len(train['geoNetwork_subContinent'].unique())"
   ]
  },
  {
   "cell_type": "code",
   "execution_count": 286,
   "metadata": {},
   "outputs": [],
   "source": [
    "train['totals_hits'] = train['totals_hits'].astype('int')"
   ]
  },
  {
   "cell_type": "code",
   "execution_count": 290,
   "metadata": {},
   "outputs": [],
   "source": [
    "train['totals_isNewVisit'] = train['totals_newVisits'].astype('int')"
   ]
  },
  {
   "cell_type": "code",
   "execution_count": 291,
   "metadata": {
    "collapsed": true
   },
   "outputs": [],
   "source": [
    "new_drop.append('totals_newVisits')"
   ]
  },
  {
   "cell_type": "code",
   "execution_count": 296,
   "metadata": {},
   "outputs": [],
   "source": [
    "train['totals_pageviews'] = train['totals_pageviews'].astype('int')"
   ]
  },
  {
   "cell_type": "code",
   "execution_count": 303,
   "metadata": {},
   "outputs": [],
   "source": [
    "#traffic = train['trafficSource_adwordsClickInfo'].apply(lambda x:json.loads(x))\n",
    "traffic_head = train['trafficSource_adwordsClickInfo'].apply(pd.Series)\n",
    "new_names = [(i,'trafficSource_adwordsClickInfo_'+i) for i in traffic_head.columns.values]\n",
    "traffic_head.rename(columns = dict(new_names), inplace = True)"
   ]
  },
  {
   "cell_type": "code",
   "execution_count": 304,
   "metadata": {},
   "outputs": [
    {
     "data": {
      "text/html": [
       "<div>\n",
       "<style>\n",
       "    .dataframe thead tr:only-child th {\n",
       "        text-align: right;\n",
       "    }\n",
       "\n",
       "    .dataframe thead th {\n",
       "        text-align: left;\n",
       "    }\n",
       "\n",
       "    .dataframe tbody tr th {\n",
       "        vertical-align: top;\n",
       "    }\n",
       "</style>\n",
       "<table border=\"1\" class=\"dataframe\">\n",
       "  <thead>\n",
       "    <tr style=\"text-align: right;\">\n",
       "      <th></th>\n",
       "      <th>trafficSource_adwordsClickInfo_adNetworkType</th>\n",
       "      <th>trafficSource_adwordsClickInfo_criteriaParameters</th>\n",
       "      <th>trafficSource_adwordsClickInfo_gclId</th>\n",
       "      <th>trafficSource_adwordsClickInfo_isVideoAd</th>\n",
       "      <th>trafficSource_adwordsClickInfo_page</th>\n",
       "      <th>trafficSource_adwordsClickInfo_slot</th>\n",
       "      <th>trafficSource_adwordsClickInfo_targetingCriteria</th>\n",
       "    </tr>\n",
       "  </thead>\n",
       "  <tbody>\n",
       "    <tr>\n",
       "      <th>0</th>\n",
       "      <td>NaN</td>\n",
       "      <td>not available in demo dataset</td>\n",
       "      <td>NaN</td>\n",
       "      <td>NaN</td>\n",
       "      <td>NaN</td>\n",
       "      <td>NaN</td>\n",
       "      <td>NaN</td>\n",
       "    </tr>\n",
       "    <tr>\n",
       "      <th>1</th>\n",
       "      <td>NaN</td>\n",
       "      <td>not available in demo dataset</td>\n",
       "      <td>NaN</td>\n",
       "      <td>NaN</td>\n",
       "      <td>NaN</td>\n",
       "      <td>NaN</td>\n",
       "      <td>NaN</td>\n",
       "    </tr>\n",
       "    <tr>\n",
       "      <th>2</th>\n",
       "      <td>NaN</td>\n",
       "      <td>not available in demo dataset</td>\n",
       "      <td>NaN</td>\n",
       "      <td>NaN</td>\n",
       "      <td>NaN</td>\n",
       "      <td>NaN</td>\n",
       "      <td>NaN</td>\n",
       "    </tr>\n",
       "    <tr>\n",
       "      <th>3</th>\n",
       "      <td>NaN</td>\n",
       "      <td>not available in demo dataset</td>\n",
       "      <td>NaN</td>\n",
       "      <td>NaN</td>\n",
       "      <td>NaN</td>\n",
       "      <td>NaN</td>\n",
       "      <td>NaN</td>\n",
       "    </tr>\n",
       "    <tr>\n",
       "      <th>4</th>\n",
       "      <td>NaN</td>\n",
       "      <td>not available in demo dataset</td>\n",
       "      <td>NaN</td>\n",
       "      <td>NaN</td>\n",
       "      <td>NaN</td>\n",
       "      <td>NaN</td>\n",
       "      <td>NaN</td>\n",
       "    </tr>\n",
       "    <tr>\n",
       "      <th>5</th>\n",
       "      <td>NaN</td>\n",
       "      <td>not available in demo dataset</td>\n",
       "      <td>NaN</td>\n",
       "      <td>NaN</td>\n",
       "      <td>NaN</td>\n",
       "      <td>NaN</td>\n",
       "      <td>NaN</td>\n",
       "    </tr>\n",
       "    <tr>\n",
       "      <th>6</th>\n",
       "      <td>NaN</td>\n",
       "      <td>not available in demo dataset</td>\n",
       "      <td>NaN</td>\n",
       "      <td>NaN</td>\n",
       "      <td>NaN</td>\n",
       "      <td>NaN</td>\n",
       "      <td>NaN</td>\n",
       "    </tr>\n",
       "    <tr>\n",
       "      <th>7</th>\n",
       "      <td>NaN</td>\n",
       "      <td>not available in demo dataset</td>\n",
       "      <td>NaN</td>\n",
       "      <td>NaN</td>\n",
       "      <td>NaN</td>\n",
       "      <td>NaN</td>\n",
       "      <td>NaN</td>\n",
       "    </tr>\n",
       "    <tr>\n",
       "      <th>8</th>\n",
       "      <td>NaN</td>\n",
       "      <td>not available in demo dataset</td>\n",
       "      <td>NaN</td>\n",
       "      <td>NaN</td>\n",
       "      <td>NaN</td>\n",
       "      <td>NaN</td>\n",
       "      <td>NaN</td>\n",
       "    </tr>\n",
       "    <tr>\n",
       "      <th>9</th>\n",
       "      <td>NaN</td>\n",
       "      <td>not available in demo dataset</td>\n",
       "      <td>NaN</td>\n",
       "      <td>NaN</td>\n",
       "      <td>NaN</td>\n",
       "      <td>NaN</td>\n",
       "      <td>NaN</td>\n",
       "    </tr>\n",
       "    <tr>\n",
       "      <th>10</th>\n",
       "      <td>NaN</td>\n",
       "      <td>not available in demo dataset</td>\n",
       "      <td>NaN</td>\n",
       "      <td>NaN</td>\n",
       "      <td>NaN</td>\n",
       "      <td>NaN</td>\n",
       "      <td>NaN</td>\n",
       "    </tr>\n",
       "    <tr>\n",
       "      <th>11</th>\n",
       "      <td>NaN</td>\n",
       "      <td>not available in demo dataset</td>\n",
       "      <td>NaN</td>\n",
       "      <td>NaN</td>\n",
       "      <td>NaN</td>\n",
       "      <td>NaN</td>\n",
       "      <td>NaN</td>\n",
       "    </tr>\n",
       "    <tr>\n",
       "      <th>12</th>\n",
       "      <td>NaN</td>\n",
       "      <td>not available in demo dataset</td>\n",
       "      <td>NaN</td>\n",
       "      <td>NaN</td>\n",
       "      <td>NaN</td>\n",
       "      <td>NaN</td>\n",
       "      <td>NaN</td>\n",
       "    </tr>\n",
       "    <tr>\n",
       "      <th>13</th>\n",
       "      <td>NaN</td>\n",
       "      <td>not available in demo dataset</td>\n",
       "      <td>NaN</td>\n",
       "      <td>NaN</td>\n",
       "      <td>NaN</td>\n",
       "      <td>NaN</td>\n",
       "      <td>NaN</td>\n",
       "    </tr>\n",
       "    <tr>\n",
       "      <th>14</th>\n",
       "      <td>NaN</td>\n",
       "      <td>not available in demo dataset</td>\n",
       "      <td>NaN</td>\n",
       "      <td>NaN</td>\n",
       "      <td>NaN</td>\n",
       "      <td>NaN</td>\n",
       "      <td>NaN</td>\n",
       "    </tr>\n",
       "    <tr>\n",
       "      <th>15</th>\n",
       "      <td>NaN</td>\n",
       "      <td>not available in demo dataset</td>\n",
       "      <td>NaN</td>\n",
       "      <td>NaN</td>\n",
       "      <td>NaN</td>\n",
       "      <td>NaN</td>\n",
       "      <td>NaN</td>\n",
       "    </tr>\n",
       "    <tr>\n",
       "      <th>16</th>\n",
       "      <td>NaN</td>\n",
       "      <td>not available in demo dataset</td>\n",
       "      <td>NaN</td>\n",
       "      <td>NaN</td>\n",
       "      <td>NaN</td>\n",
       "      <td>NaN</td>\n",
       "      <td>NaN</td>\n",
       "    </tr>\n",
       "    <tr>\n",
       "      <th>17</th>\n",
       "      <td>NaN</td>\n",
       "      <td>not available in demo dataset</td>\n",
       "      <td>NaN</td>\n",
       "      <td>NaN</td>\n",
       "      <td>NaN</td>\n",
       "      <td>NaN</td>\n",
       "      <td>NaN</td>\n",
       "    </tr>\n",
       "    <tr>\n",
       "      <th>18</th>\n",
       "      <td>NaN</td>\n",
       "      <td>not available in demo dataset</td>\n",
       "      <td>NaN</td>\n",
       "      <td>NaN</td>\n",
       "      <td>NaN</td>\n",
       "      <td>NaN</td>\n",
       "      <td>NaN</td>\n",
       "    </tr>\n",
       "    <tr>\n",
       "      <th>19</th>\n",
       "      <td>NaN</td>\n",
       "      <td>not available in demo dataset</td>\n",
       "      <td>NaN</td>\n",
       "      <td>NaN</td>\n",
       "      <td>NaN</td>\n",
       "      <td>NaN</td>\n",
       "      <td>NaN</td>\n",
       "    </tr>\n",
       "    <tr>\n",
       "      <th>20</th>\n",
       "      <td>NaN</td>\n",
       "      <td>not available in demo dataset</td>\n",
       "      <td>NaN</td>\n",
       "      <td>NaN</td>\n",
       "      <td>NaN</td>\n",
       "      <td>NaN</td>\n",
       "      <td>NaN</td>\n",
       "    </tr>\n",
       "    <tr>\n",
       "      <th>21</th>\n",
       "      <td>NaN</td>\n",
       "      <td>not available in demo dataset</td>\n",
       "      <td>NaN</td>\n",
       "      <td>NaN</td>\n",
       "      <td>NaN</td>\n",
       "      <td>NaN</td>\n",
       "      <td>NaN</td>\n",
       "    </tr>\n",
       "    <tr>\n",
       "      <th>22</th>\n",
       "      <td>NaN</td>\n",
       "      <td>not available in demo dataset</td>\n",
       "      <td>NaN</td>\n",
       "      <td>NaN</td>\n",
       "      <td>NaN</td>\n",
       "      <td>NaN</td>\n",
       "      <td>NaN</td>\n",
       "    </tr>\n",
       "    <tr>\n",
       "      <th>23</th>\n",
       "      <td>NaN</td>\n",
       "      <td>not available in demo dataset</td>\n",
       "      <td>NaN</td>\n",
       "      <td>NaN</td>\n",
       "      <td>NaN</td>\n",
       "      <td>NaN</td>\n",
       "      <td>NaN</td>\n",
       "    </tr>\n",
       "    <tr>\n",
       "      <th>24</th>\n",
       "      <td>NaN</td>\n",
       "      <td>not available in demo dataset</td>\n",
       "      <td>NaN</td>\n",
       "      <td>NaN</td>\n",
       "      <td>NaN</td>\n",
       "      <td>NaN</td>\n",
       "      <td>NaN</td>\n",
       "    </tr>\n",
       "    <tr>\n",
       "      <th>25</th>\n",
       "      <td>NaN</td>\n",
       "      <td>not available in demo dataset</td>\n",
       "      <td>NaN</td>\n",
       "      <td>NaN</td>\n",
       "      <td>NaN</td>\n",
       "      <td>NaN</td>\n",
       "      <td>NaN</td>\n",
       "    </tr>\n",
       "    <tr>\n",
       "      <th>26</th>\n",
       "      <td>NaN</td>\n",
       "      <td>not available in demo dataset</td>\n",
       "      <td>NaN</td>\n",
       "      <td>NaN</td>\n",
       "      <td>NaN</td>\n",
       "      <td>NaN</td>\n",
       "      <td>NaN</td>\n",
       "    </tr>\n",
       "    <tr>\n",
       "      <th>27</th>\n",
       "      <td>NaN</td>\n",
       "      <td>not available in demo dataset</td>\n",
       "      <td>NaN</td>\n",
       "      <td>NaN</td>\n",
       "      <td>NaN</td>\n",
       "      <td>NaN</td>\n",
       "      <td>NaN</td>\n",
       "    </tr>\n",
       "    <tr>\n",
       "      <th>28</th>\n",
       "      <td>NaN</td>\n",
       "      <td>not available in demo dataset</td>\n",
       "      <td>NaN</td>\n",
       "      <td>NaN</td>\n",
       "      <td>NaN</td>\n",
       "      <td>NaN</td>\n",
       "      <td>NaN</td>\n",
       "    </tr>\n",
       "    <tr>\n",
       "      <th>29</th>\n",
       "      <td>NaN</td>\n",
       "      <td>not available in demo dataset</td>\n",
       "      <td>NaN</td>\n",
       "      <td>NaN</td>\n",
       "      <td>NaN</td>\n",
       "      <td>NaN</td>\n",
       "      <td>NaN</td>\n",
       "    </tr>\n",
       "    <tr>\n",
       "      <th>...</th>\n",
       "      <td>...</td>\n",
       "      <td>...</td>\n",
       "      <td>...</td>\n",
       "      <td>...</td>\n",
       "      <td>...</td>\n",
       "      <td>...</td>\n",
       "      <td>...</td>\n",
       "    </tr>\n",
       "    <tr>\n",
       "      <th>903623</th>\n",
       "      <td>NaN</td>\n",
       "      <td>not available in demo dataset</td>\n",
       "      <td>NaN</td>\n",
       "      <td>NaN</td>\n",
       "      <td>NaN</td>\n",
       "      <td>NaN</td>\n",
       "      <td>NaN</td>\n",
       "    </tr>\n",
       "    <tr>\n",
       "      <th>903624</th>\n",
       "      <td>NaN</td>\n",
       "      <td>not available in demo dataset</td>\n",
       "      <td>NaN</td>\n",
       "      <td>NaN</td>\n",
       "      <td>NaN</td>\n",
       "      <td>NaN</td>\n",
       "      <td>NaN</td>\n",
       "    </tr>\n",
       "    <tr>\n",
       "      <th>903625</th>\n",
       "      <td>NaN</td>\n",
       "      <td>not available in demo dataset</td>\n",
       "      <td>NaN</td>\n",
       "      <td>NaN</td>\n",
       "      <td>NaN</td>\n",
       "      <td>NaN</td>\n",
       "      <td>NaN</td>\n",
       "    </tr>\n",
       "    <tr>\n",
       "      <th>903626</th>\n",
       "      <td>NaN</td>\n",
       "      <td>not available in demo dataset</td>\n",
       "      <td>NaN</td>\n",
       "      <td>NaN</td>\n",
       "      <td>NaN</td>\n",
       "      <td>NaN</td>\n",
       "      <td>NaN</td>\n",
       "    </tr>\n",
       "    <tr>\n",
       "      <th>903627</th>\n",
       "      <td>NaN</td>\n",
       "      <td>not available in demo dataset</td>\n",
       "      <td>NaN</td>\n",
       "      <td>NaN</td>\n",
       "      <td>NaN</td>\n",
       "      <td>NaN</td>\n",
       "      <td>NaN</td>\n",
       "    </tr>\n",
       "    <tr>\n",
       "      <th>903628</th>\n",
       "      <td>NaN</td>\n",
       "      <td>not available in demo dataset</td>\n",
       "      <td>NaN</td>\n",
       "      <td>NaN</td>\n",
       "      <td>NaN</td>\n",
       "      <td>NaN</td>\n",
       "      <td>NaN</td>\n",
       "    </tr>\n",
       "    <tr>\n",
       "      <th>903629</th>\n",
       "      <td>NaN</td>\n",
       "      <td>not available in demo dataset</td>\n",
       "      <td>NaN</td>\n",
       "      <td>NaN</td>\n",
       "      <td>NaN</td>\n",
       "      <td>NaN</td>\n",
       "      <td>NaN</td>\n",
       "    </tr>\n",
       "    <tr>\n",
       "      <th>903630</th>\n",
       "      <td>NaN</td>\n",
       "      <td>not available in demo dataset</td>\n",
       "      <td>NaN</td>\n",
       "      <td>NaN</td>\n",
       "      <td>NaN</td>\n",
       "      <td>NaN</td>\n",
       "      <td>NaN</td>\n",
       "    </tr>\n",
       "    <tr>\n",
       "      <th>903631</th>\n",
       "      <td>NaN</td>\n",
       "      <td>not available in demo dataset</td>\n",
       "      <td>NaN</td>\n",
       "      <td>NaN</td>\n",
       "      <td>NaN</td>\n",
       "      <td>NaN</td>\n",
       "      <td>NaN</td>\n",
       "    </tr>\n",
       "    <tr>\n",
       "      <th>903632</th>\n",
       "      <td>NaN</td>\n",
       "      <td>not available in demo dataset</td>\n",
       "      <td>NaN</td>\n",
       "      <td>NaN</td>\n",
       "      <td>NaN</td>\n",
       "      <td>NaN</td>\n",
       "      <td>NaN</td>\n",
       "    </tr>\n",
       "    <tr>\n",
       "      <th>903633</th>\n",
       "      <td>NaN</td>\n",
       "      <td>not available in demo dataset</td>\n",
       "      <td>NaN</td>\n",
       "      <td>NaN</td>\n",
       "      <td>NaN</td>\n",
       "      <td>NaN</td>\n",
       "      <td>NaN</td>\n",
       "    </tr>\n",
       "    <tr>\n",
       "      <th>903634</th>\n",
       "      <td>NaN</td>\n",
       "      <td>not available in demo dataset</td>\n",
       "      <td>NaN</td>\n",
       "      <td>NaN</td>\n",
       "      <td>NaN</td>\n",
       "      <td>NaN</td>\n",
       "      <td>NaN</td>\n",
       "    </tr>\n",
       "    <tr>\n",
       "      <th>903635</th>\n",
       "      <td>NaN</td>\n",
       "      <td>not available in demo dataset</td>\n",
       "      <td>NaN</td>\n",
       "      <td>NaN</td>\n",
       "      <td>NaN</td>\n",
       "      <td>NaN</td>\n",
       "      <td>NaN</td>\n",
       "    </tr>\n",
       "    <tr>\n",
       "      <th>903636</th>\n",
       "      <td>NaN</td>\n",
       "      <td>not available in demo dataset</td>\n",
       "      <td>NaN</td>\n",
       "      <td>NaN</td>\n",
       "      <td>NaN</td>\n",
       "      <td>NaN</td>\n",
       "      <td>NaN</td>\n",
       "    </tr>\n",
       "    <tr>\n",
       "      <th>903637</th>\n",
       "      <td>NaN</td>\n",
       "      <td>not available in demo dataset</td>\n",
       "      <td>NaN</td>\n",
       "      <td>NaN</td>\n",
       "      <td>NaN</td>\n",
       "      <td>NaN</td>\n",
       "      <td>NaN</td>\n",
       "    </tr>\n",
       "    <tr>\n",
       "      <th>903638</th>\n",
       "      <td>NaN</td>\n",
       "      <td>not available in demo dataset</td>\n",
       "      <td>NaN</td>\n",
       "      <td>NaN</td>\n",
       "      <td>NaN</td>\n",
       "      <td>NaN</td>\n",
       "      <td>NaN</td>\n",
       "    </tr>\n",
       "    <tr>\n",
       "      <th>903639</th>\n",
       "      <td>NaN</td>\n",
       "      <td>not available in demo dataset</td>\n",
       "      <td>NaN</td>\n",
       "      <td>NaN</td>\n",
       "      <td>NaN</td>\n",
       "      <td>NaN</td>\n",
       "      <td>NaN</td>\n",
       "    </tr>\n",
       "    <tr>\n",
       "      <th>903640</th>\n",
       "      <td>NaN</td>\n",
       "      <td>not available in demo dataset</td>\n",
       "      <td>NaN</td>\n",
       "      <td>NaN</td>\n",
       "      <td>NaN</td>\n",
       "      <td>NaN</td>\n",
       "      <td>NaN</td>\n",
       "    </tr>\n",
       "    <tr>\n",
       "      <th>903641</th>\n",
       "      <td>NaN</td>\n",
       "      <td>not available in demo dataset</td>\n",
       "      <td>NaN</td>\n",
       "      <td>NaN</td>\n",
       "      <td>NaN</td>\n",
       "      <td>NaN</td>\n",
       "      <td>NaN</td>\n",
       "    </tr>\n",
       "    <tr>\n",
       "      <th>903642</th>\n",
       "      <td>NaN</td>\n",
       "      <td>not available in demo dataset</td>\n",
       "      <td>NaN</td>\n",
       "      <td>NaN</td>\n",
       "      <td>NaN</td>\n",
       "      <td>NaN</td>\n",
       "      <td>NaN</td>\n",
       "    </tr>\n",
       "    <tr>\n",
       "      <th>903643</th>\n",
       "      <td>NaN</td>\n",
       "      <td>not available in demo dataset</td>\n",
       "      <td>NaN</td>\n",
       "      <td>NaN</td>\n",
       "      <td>NaN</td>\n",
       "      <td>NaN</td>\n",
       "      <td>NaN</td>\n",
       "    </tr>\n",
       "    <tr>\n",
       "      <th>903644</th>\n",
       "      <td>NaN</td>\n",
       "      <td>not available in demo dataset</td>\n",
       "      <td>NaN</td>\n",
       "      <td>NaN</td>\n",
       "      <td>NaN</td>\n",
       "      <td>NaN</td>\n",
       "      <td>NaN</td>\n",
       "    </tr>\n",
       "    <tr>\n",
       "      <th>903645</th>\n",
       "      <td>NaN</td>\n",
       "      <td>not available in demo dataset</td>\n",
       "      <td>NaN</td>\n",
       "      <td>NaN</td>\n",
       "      <td>NaN</td>\n",
       "      <td>NaN</td>\n",
       "      <td>NaN</td>\n",
       "    </tr>\n",
       "    <tr>\n",
       "      <th>903646</th>\n",
       "      <td>NaN</td>\n",
       "      <td>not available in demo dataset</td>\n",
       "      <td>NaN</td>\n",
       "      <td>NaN</td>\n",
       "      <td>NaN</td>\n",
       "      <td>NaN</td>\n",
       "      <td>NaN</td>\n",
       "    </tr>\n",
       "    <tr>\n",
       "      <th>903647</th>\n",
       "      <td>NaN</td>\n",
       "      <td>not available in demo dataset</td>\n",
       "      <td>NaN</td>\n",
       "      <td>NaN</td>\n",
       "      <td>NaN</td>\n",
       "      <td>NaN</td>\n",
       "      <td>NaN</td>\n",
       "    </tr>\n",
       "    <tr>\n",
       "      <th>903648</th>\n",
       "      <td>NaN</td>\n",
       "      <td>not available in demo dataset</td>\n",
       "      <td>NaN</td>\n",
       "      <td>NaN</td>\n",
       "      <td>NaN</td>\n",
       "      <td>NaN</td>\n",
       "      <td>NaN</td>\n",
       "    </tr>\n",
       "    <tr>\n",
       "      <th>903649</th>\n",
       "      <td>NaN</td>\n",
       "      <td>not available in demo dataset</td>\n",
       "      <td>NaN</td>\n",
       "      <td>NaN</td>\n",
       "      <td>NaN</td>\n",
       "      <td>NaN</td>\n",
       "      <td>NaN</td>\n",
       "    </tr>\n",
       "    <tr>\n",
       "      <th>903650</th>\n",
       "      <td>NaN</td>\n",
       "      <td>not available in demo dataset</td>\n",
       "      <td>NaN</td>\n",
       "      <td>NaN</td>\n",
       "      <td>NaN</td>\n",
       "      <td>NaN</td>\n",
       "      <td>NaN</td>\n",
       "    </tr>\n",
       "    <tr>\n",
       "      <th>903651</th>\n",
       "      <td>NaN</td>\n",
       "      <td>not available in demo dataset</td>\n",
       "      <td>NaN</td>\n",
       "      <td>NaN</td>\n",
       "      <td>NaN</td>\n",
       "      <td>NaN</td>\n",
       "      <td>NaN</td>\n",
       "    </tr>\n",
       "    <tr>\n",
       "      <th>903652</th>\n",
       "      <td>NaN</td>\n",
       "      <td>not available in demo dataset</td>\n",
       "      <td>NaN</td>\n",
       "      <td>NaN</td>\n",
       "      <td>NaN</td>\n",
       "      <td>NaN</td>\n",
       "      <td>NaN</td>\n",
       "    </tr>\n",
       "  </tbody>\n",
       "</table>\n",
       "<p>903653 rows × 7 columns</p>\n",
       "</div>"
      ],
      "text/plain": [
       "       trafficSource_adwordsClickInfo_adNetworkType  \\\n",
       "0                                               NaN   \n",
       "1                                               NaN   \n",
       "2                                               NaN   \n",
       "3                                               NaN   \n",
       "4                                               NaN   \n",
       "5                                               NaN   \n",
       "6                                               NaN   \n",
       "7                                               NaN   \n",
       "8                                               NaN   \n",
       "9                                               NaN   \n",
       "10                                              NaN   \n",
       "11                                              NaN   \n",
       "12                                              NaN   \n",
       "13                                              NaN   \n",
       "14                                              NaN   \n",
       "15                                              NaN   \n",
       "16                                              NaN   \n",
       "17                                              NaN   \n",
       "18                                              NaN   \n",
       "19                                              NaN   \n",
       "20                                              NaN   \n",
       "21                                              NaN   \n",
       "22                                              NaN   \n",
       "23                                              NaN   \n",
       "24                                              NaN   \n",
       "25                                              NaN   \n",
       "26                                              NaN   \n",
       "27                                              NaN   \n",
       "28                                              NaN   \n",
       "29                                              NaN   \n",
       "...                                             ...   \n",
       "903623                                          NaN   \n",
       "903624                                          NaN   \n",
       "903625                                          NaN   \n",
       "903626                                          NaN   \n",
       "903627                                          NaN   \n",
       "903628                                          NaN   \n",
       "903629                                          NaN   \n",
       "903630                                          NaN   \n",
       "903631                                          NaN   \n",
       "903632                                          NaN   \n",
       "903633                                          NaN   \n",
       "903634                                          NaN   \n",
       "903635                                          NaN   \n",
       "903636                                          NaN   \n",
       "903637                                          NaN   \n",
       "903638                                          NaN   \n",
       "903639                                          NaN   \n",
       "903640                                          NaN   \n",
       "903641                                          NaN   \n",
       "903642                                          NaN   \n",
       "903643                                          NaN   \n",
       "903644                                          NaN   \n",
       "903645                                          NaN   \n",
       "903646                                          NaN   \n",
       "903647                                          NaN   \n",
       "903648                                          NaN   \n",
       "903649                                          NaN   \n",
       "903650                                          NaN   \n",
       "903651                                          NaN   \n",
       "903652                                          NaN   \n",
       "\n",
       "       trafficSource_adwordsClickInfo_criteriaParameters  \\\n",
       "0                          not available in demo dataset   \n",
       "1                          not available in demo dataset   \n",
       "2                          not available in demo dataset   \n",
       "3                          not available in demo dataset   \n",
       "4                          not available in demo dataset   \n",
       "5                          not available in demo dataset   \n",
       "6                          not available in demo dataset   \n",
       "7                          not available in demo dataset   \n",
       "8                          not available in demo dataset   \n",
       "9                          not available in demo dataset   \n",
       "10                         not available in demo dataset   \n",
       "11                         not available in demo dataset   \n",
       "12                         not available in demo dataset   \n",
       "13                         not available in demo dataset   \n",
       "14                         not available in demo dataset   \n",
       "15                         not available in demo dataset   \n",
       "16                         not available in demo dataset   \n",
       "17                         not available in demo dataset   \n",
       "18                         not available in demo dataset   \n",
       "19                         not available in demo dataset   \n",
       "20                         not available in demo dataset   \n",
       "21                         not available in demo dataset   \n",
       "22                         not available in demo dataset   \n",
       "23                         not available in demo dataset   \n",
       "24                         not available in demo dataset   \n",
       "25                         not available in demo dataset   \n",
       "26                         not available in demo dataset   \n",
       "27                         not available in demo dataset   \n",
       "28                         not available in demo dataset   \n",
       "29                         not available in demo dataset   \n",
       "...                                                  ...   \n",
       "903623                     not available in demo dataset   \n",
       "903624                     not available in demo dataset   \n",
       "903625                     not available in demo dataset   \n",
       "903626                     not available in demo dataset   \n",
       "903627                     not available in demo dataset   \n",
       "903628                     not available in demo dataset   \n",
       "903629                     not available in demo dataset   \n",
       "903630                     not available in demo dataset   \n",
       "903631                     not available in demo dataset   \n",
       "903632                     not available in demo dataset   \n",
       "903633                     not available in demo dataset   \n",
       "903634                     not available in demo dataset   \n",
       "903635                     not available in demo dataset   \n",
       "903636                     not available in demo dataset   \n",
       "903637                     not available in demo dataset   \n",
       "903638                     not available in demo dataset   \n",
       "903639                     not available in demo dataset   \n",
       "903640                     not available in demo dataset   \n",
       "903641                     not available in demo dataset   \n",
       "903642                     not available in demo dataset   \n",
       "903643                     not available in demo dataset   \n",
       "903644                     not available in demo dataset   \n",
       "903645                     not available in demo dataset   \n",
       "903646                     not available in demo dataset   \n",
       "903647                     not available in demo dataset   \n",
       "903648                     not available in demo dataset   \n",
       "903649                     not available in demo dataset   \n",
       "903650                     not available in demo dataset   \n",
       "903651                     not available in demo dataset   \n",
       "903652                     not available in demo dataset   \n",
       "\n",
       "       trafficSource_adwordsClickInfo_gclId  \\\n",
       "0                                       NaN   \n",
       "1                                       NaN   \n",
       "2                                       NaN   \n",
       "3                                       NaN   \n",
       "4                                       NaN   \n",
       "5                                       NaN   \n",
       "6                                       NaN   \n",
       "7                                       NaN   \n",
       "8                                       NaN   \n",
       "9                                       NaN   \n",
       "10                                      NaN   \n",
       "11                                      NaN   \n",
       "12                                      NaN   \n",
       "13                                      NaN   \n",
       "14                                      NaN   \n",
       "15                                      NaN   \n",
       "16                                      NaN   \n",
       "17                                      NaN   \n",
       "18                                      NaN   \n",
       "19                                      NaN   \n",
       "20                                      NaN   \n",
       "21                                      NaN   \n",
       "22                                      NaN   \n",
       "23                                      NaN   \n",
       "24                                      NaN   \n",
       "25                                      NaN   \n",
       "26                                      NaN   \n",
       "27                                      NaN   \n",
       "28                                      NaN   \n",
       "29                                      NaN   \n",
       "...                                     ...   \n",
       "903623                                  NaN   \n",
       "903624                                  NaN   \n",
       "903625                                  NaN   \n",
       "903626                                  NaN   \n",
       "903627                                  NaN   \n",
       "903628                                  NaN   \n",
       "903629                                  NaN   \n",
       "903630                                  NaN   \n",
       "903631                                  NaN   \n",
       "903632                                  NaN   \n",
       "903633                                  NaN   \n",
       "903634                                  NaN   \n",
       "903635                                  NaN   \n",
       "903636                                  NaN   \n",
       "903637                                  NaN   \n",
       "903638                                  NaN   \n",
       "903639                                  NaN   \n",
       "903640                                  NaN   \n",
       "903641                                  NaN   \n",
       "903642                                  NaN   \n",
       "903643                                  NaN   \n",
       "903644                                  NaN   \n",
       "903645                                  NaN   \n",
       "903646                                  NaN   \n",
       "903647                                  NaN   \n",
       "903648                                  NaN   \n",
       "903649                                  NaN   \n",
       "903650                                  NaN   \n",
       "903651                                  NaN   \n",
       "903652                                  NaN   \n",
       "\n",
       "       trafficSource_adwordsClickInfo_isVideoAd  \\\n",
       "0                                           NaN   \n",
       "1                                           NaN   \n",
       "2                                           NaN   \n",
       "3                                           NaN   \n",
       "4                                           NaN   \n",
       "5                                           NaN   \n",
       "6                                           NaN   \n",
       "7                                           NaN   \n",
       "8                                           NaN   \n",
       "9                                           NaN   \n",
       "10                                          NaN   \n",
       "11                                          NaN   \n",
       "12                                          NaN   \n",
       "13                                          NaN   \n",
       "14                                          NaN   \n",
       "15                                          NaN   \n",
       "16                                          NaN   \n",
       "17                                          NaN   \n",
       "18                                          NaN   \n",
       "19                                          NaN   \n",
       "20                                          NaN   \n",
       "21                                          NaN   \n",
       "22                                          NaN   \n",
       "23                                          NaN   \n",
       "24                                          NaN   \n",
       "25                                          NaN   \n",
       "26                                          NaN   \n",
       "27                                          NaN   \n",
       "28                                          NaN   \n",
       "29                                          NaN   \n",
       "...                                         ...   \n",
       "903623                                      NaN   \n",
       "903624                                      NaN   \n",
       "903625                                      NaN   \n",
       "903626                                      NaN   \n",
       "903627                                      NaN   \n",
       "903628                                      NaN   \n",
       "903629                                      NaN   \n",
       "903630                                      NaN   \n",
       "903631                                      NaN   \n",
       "903632                                      NaN   \n",
       "903633                                      NaN   \n",
       "903634                                      NaN   \n",
       "903635                                      NaN   \n",
       "903636                                      NaN   \n",
       "903637                                      NaN   \n",
       "903638                                      NaN   \n",
       "903639                                      NaN   \n",
       "903640                                      NaN   \n",
       "903641                                      NaN   \n",
       "903642                                      NaN   \n",
       "903643                                      NaN   \n",
       "903644                                      NaN   \n",
       "903645                                      NaN   \n",
       "903646                                      NaN   \n",
       "903647                                      NaN   \n",
       "903648                                      NaN   \n",
       "903649                                      NaN   \n",
       "903650                                      NaN   \n",
       "903651                                      NaN   \n",
       "903652                                      NaN   \n",
       "\n",
       "       trafficSource_adwordsClickInfo_page  \\\n",
       "0                                      NaN   \n",
       "1                                      NaN   \n",
       "2                                      NaN   \n",
       "3                                      NaN   \n",
       "4                                      NaN   \n",
       "5                                      NaN   \n",
       "6                                      NaN   \n",
       "7                                      NaN   \n",
       "8                                      NaN   \n",
       "9                                      NaN   \n",
       "10                                     NaN   \n",
       "11                                     NaN   \n",
       "12                                     NaN   \n",
       "13                                     NaN   \n",
       "14                                     NaN   \n",
       "15                                     NaN   \n",
       "16                                     NaN   \n",
       "17                                     NaN   \n",
       "18                                     NaN   \n",
       "19                                     NaN   \n",
       "20                                     NaN   \n",
       "21                                     NaN   \n",
       "22                                     NaN   \n",
       "23                                     NaN   \n",
       "24                                     NaN   \n",
       "25                                     NaN   \n",
       "26                                     NaN   \n",
       "27                                     NaN   \n",
       "28                                     NaN   \n",
       "29                                     NaN   \n",
       "...                                    ...   \n",
       "903623                                 NaN   \n",
       "903624                                 NaN   \n",
       "903625                                 NaN   \n",
       "903626                                 NaN   \n",
       "903627                                 NaN   \n",
       "903628                                 NaN   \n",
       "903629                                 NaN   \n",
       "903630                                 NaN   \n",
       "903631                                 NaN   \n",
       "903632                                 NaN   \n",
       "903633                                 NaN   \n",
       "903634                                 NaN   \n",
       "903635                                 NaN   \n",
       "903636                                 NaN   \n",
       "903637                                 NaN   \n",
       "903638                                 NaN   \n",
       "903639                                 NaN   \n",
       "903640                                 NaN   \n",
       "903641                                 NaN   \n",
       "903642                                 NaN   \n",
       "903643                                 NaN   \n",
       "903644                                 NaN   \n",
       "903645                                 NaN   \n",
       "903646                                 NaN   \n",
       "903647                                 NaN   \n",
       "903648                                 NaN   \n",
       "903649                                 NaN   \n",
       "903650                                 NaN   \n",
       "903651                                 NaN   \n",
       "903652                                 NaN   \n",
       "\n",
       "       trafficSource_adwordsClickInfo_slot  \\\n",
       "0                                      NaN   \n",
       "1                                      NaN   \n",
       "2                                      NaN   \n",
       "3                                      NaN   \n",
       "4                                      NaN   \n",
       "5                                      NaN   \n",
       "6                                      NaN   \n",
       "7                                      NaN   \n",
       "8                                      NaN   \n",
       "9                                      NaN   \n",
       "10                                     NaN   \n",
       "11                                     NaN   \n",
       "12                                     NaN   \n",
       "13                                     NaN   \n",
       "14                                     NaN   \n",
       "15                                     NaN   \n",
       "16                                     NaN   \n",
       "17                                     NaN   \n",
       "18                                     NaN   \n",
       "19                                     NaN   \n",
       "20                                     NaN   \n",
       "21                                     NaN   \n",
       "22                                     NaN   \n",
       "23                                     NaN   \n",
       "24                                     NaN   \n",
       "25                                     NaN   \n",
       "26                                     NaN   \n",
       "27                                     NaN   \n",
       "28                                     NaN   \n",
       "29                                     NaN   \n",
       "...                                    ...   \n",
       "903623                                 NaN   \n",
       "903624                                 NaN   \n",
       "903625                                 NaN   \n",
       "903626                                 NaN   \n",
       "903627                                 NaN   \n",
       "903628                                 NaN   \n",
       "903629                                 NaN   \n",
       "903630                                 NaN   \n",
       "903631                                 NaN   \n",
       "903632                                 NaN   \n",
       "903633                                 NaN   \n",
       "903634                                 NaN   \n",
       "903635                                 NaN   \n",
       "903636                                 NaN   \n",
       "903637                                 NaN   \n",
       "903638                                 NaN   \n",
       "903639                                 NaN   \n",
       "903640                                 NaN   \n",
       "903641                                 NaN   \n",
       "903642                                 NaN   \n",
       "903643                                 NaN   \n",
       "903644                                 NaN   \n",
       "903645                                 NaN   \n",
       "903646                                 NaN   \n",
       "903647                                 NaN   \n",
       "903648                                 NaN   \n",
       "903649                                 NaN   \n",
       "903650                                 NaN   \n",
       "903651                                 NaN   \n",
       "903652                                 NaN   \n",
       "\n",
       "       trafficSource_adwordsClickInfo_targetingCriteria  \n",
       "0                                                   NaN  \n",
       "1                                                   NaN  \n",
       "2                                                   NaN  \n",
       "3                                                   NaN  \n",
       "4                                                   NaN  \n",
       "5                                                   NaN  \n",
       "6                                                   NaN  \n",
       "7                                                   NaN  \n",
       "8                                                   NaN  \n",
       "9                                                   NaN  \n",
       "10                                                  NaN  \n",
       "11                                                  NaN  \n",
       "12                                                  NaN  \n",
       "13                                                  NaN  \n",
       "14                                                  NaN  \n",
       "15                                                  NaN  \n",
       "16                                                  NaN  \n",
       "17                                                  NaN  \n",
       "18                                                  NaN  \n",
       "19                                                  NaN  \n",
       "20                                                  NaN  \n",
       "21                                                  NaN  \n",
       "22                                                  NaN  \n",
       "23                                                  NaN  \n",
       "24                                                  NaN  \n",
       "25                                                  NaN  \n",
       "26                                                  NaN  \n",
       "27                                                  NaN  \n",
       "28                                                  NaN  \n",
       "29                                                  NaN  \n",
       "...                                                 ...  \n",
       "903623                                              NaN  \n",
       "903624                                              NaN  \n",
       "903625                                              NaN  \n",
       "903626                                              NaN  \n",
       "903627                                              NaN  \n",
       "903628                                              NaN  \n",
       "903629                                              NaN  \n",
       "903630                                              NaN  \n",
       "903631                                              NaN  \n",
       "903632                                              NaN  \n",
       "903633                                              NaN  \n",
       "903634                                              NaN  \n",
       "903635                                              NaN  \n",
       "903636                                              NaN  \n",
       "903637                                              NaN  \n",
       "903638                                              NaN  \n",
       "903639                                              NaN  \n",
       "903640                                              NaN  \n",
       "903641                                              NaN  \n",
       "903642                                              NaN  \n",
       "903643                                              NaN  \n",
       "903644                                              NaN  \n",
       "903645                                              NaN  \n",
       "903646                                              NaN  \n",
       "903647                                              NaN  \n",
       "903648                                              NaN  \n",
       "903649                                              NaN  \n",
       "903650                                              NaN  \n",
       "903651                                              NaN  \n",
       "903652                                              NaN  \n",
       "\n",
       "[903653 rows x 7 columns]"
      ]
     },
     "execution_count": 304,
     "metadata": {},
     "output_type": "execute_result"
    }
   ],
   "source": [
    "traffic_head"
   ]
  },
  {
   "cell_type": "code",
   "execution_count": 305,
   "metadata": {
    "collapsed": true
   },
   "outputs": [],
   "source": [
    "dictionary1 = {}\n",
    "for i in traffic_head.columns.values:\n",
    "    val = traffic_head[i].isnull().sum()\n",
    "    percent = str(round((val/903653)*100,2))\n",
    "    dictionary1[i] = percent\n",
    "\n",
    "### Converting the dictionary to a dataframe for visualization\n",
    "\n",
    "train_null = pd.DataFrame.from_dict(dictionary1, orient = 'index')\n",
    "\n",
    "train_null.reset_index(level = 0, inplace = True)\n",
    "\n",
    "train_null.columns = ['ColumnName', 'PercentNullEntries']\n",
    "\n",
    "train_null['PercentNullEntries'] = train_null['PercentNullEntries'].astype(float)\n",
    "\n",
    "train_null_t10 = train_null.sort_values('PercentNullEntries', axis = 0, ascending = False).head(n = 10)"
   ]
  },
  {
   "cell_type": "code",
   "execution_count": 306,
   "metadata": {},
   "outputs": [
    {
     "data": {
      "text/html": [
       "<div>\n",
       "<style>\n",
       "    .dataframe thead tr:only-child th {\n",
       "        text-align: right;\n",
       "    }\n",
       "\n",
       "    .dataframe thead th {\n",
       "        text-align: left;\n",
       "    }\n",
       "\n",
       "    .dataframe tbody tr th {\n",
       "        vertical-align: top;\n",
       "    }\n",
       "</style>\n",
       "<table border=\"1\" class=\"dataframe\">\n",
       "  <thead>\n",
       "    <tr style=\"text-align: right;\">\n",
       "      <th></th>\n",
       "      <th>ColumnName</th>\n",
       "      <th>PercentNullEntries</th>\n",
       "    </tr>\n",
       "  </thead>\n",
       "  <tbody>\n",
       "    <tr>\n",
       "      <th>6</th>\n",
       "      <td>trafficSource_adwordsClickInfo_targetingCriteria</td>\n",
       "      <td>99.84</td>\n",
       "    </tr>\n",
       "    <tr>\n",
       "      <th>0</th>\n",
       "      <td>trafficSource_adwordsClickInfo_adNetworkType</td>\n",
       "      <td>97.63</td>\n",
       "    </tr>\n",
       "    <tr>\n",
       "      <th>3</th>\n",
       "      <td>trafficSource_adwordsClickInfo_isVideoAd</td>\n",
       "      <td>97.63</td>\n",
       "    </tr>\n",
       "    <tr>\n",
       "      <th>4</th>\n",
       "      <td>trafficSource_adwordsClickInfo_page</td>\n",
       "      <td>97.63</td>\n",
       "    </tr>\n",
       "    <tr>\n",
       "      <th>5</th>\n",
       "      <td>trafficSource_adwordsClickInfo_slot</td>\n",
       "      <td>97.63</td>\n",
       "    </tr>\n",
       "    <tr>\n",
       "      <th>2</th>\n",
       "      <td>trafficSource_adwordsClickInfo_gclId</td>\n",
       "      <td>97.61</td>\n",
       "    </tr>\n",
       "    <tr>\n",
       "      <th>1</th>\n",
       "      <td>trafficSource_adwordsClickInfo_criteriaParameters</td>\n",
       "      <td>0.00</td>\n",
       "    </tr>\n",
       "  </tbody>\n",
       "</table>\n",
       "</div>"
      ],
      "text/plain": [
       "                                          ColumnName  PercentNullEntries\n",
       "6   trafficSource_adwordsClickInfo_targetingCriteria               99.84\n",
       "0       trafficSource_adwordsClickInfo_adNetworkType               97.63\n",
       "3           trafficSource_adwordsClickInfo_isVideoAd               97.63\n",
       "4                trafficSource_adwordsClickInfo_page               97.63\n",
       "5                trafficSource_adwordsClickInfo_slot               97.63\n",
       "2               trafficSource_adwordsClickInfo_gclId               97.61\n",
       "1  trafficSource_adwordsClickInfo_criteriaParameters                0.00"
      ]
     },
     "execution_count": 306,
     "metadata": {},
     "output_type": "execute_result"
    }
   ],
   "source": [
    "train_null_t10"
   ]
  },
  {
   "cell_type": "code",
   "execution_count": 308,
   "metadata": {},
   "outputs": [
    {
     "data": {
      "text/plain": [
       "not available in demo dataset    903653\n",
       "Name: trafficSource_adwordsClickInfo_criteriaParameters, dtype: int64"
      ]
     },
     "execution_count": 308,
     "metadata": {},
     "output_type": "execute_result"
    }
   ],
   "source": [
    "traffic_head['trafficSource_adwordsClickInfo_criteriaParameters'].value_counts()"
   ]
  },
  {
   "cell_type": "markdown",
   "metadata": {},
   "source": [
    "### Let's remove the variable trafficSource_adwordsClickInfo now"
   ]
  },
  {
   "cell_type": "code",
   "execution_count": 309,
   "metadata": {
    "collapsed": true
   },
   "outputs": [],
   "source": [
    "new_drop.append('trafficSource_adwordsClickInfo')"
   ]
  },
  {
   "cell_type": "code",
   "execution_count": 310,
   "metadata": {},
   "outputs": [
    {
     "data": {
      "text/plain": [
       "10"
      ]
     },
     "execution_count": 310,
     "metadata": {},
     "output_type": "execute_result"
    }
   ],
   "source": [
    "len(train['trafficSource_campaign'].unique())"
   ]
  },
  {
   "cell_type": "code",
   "execution_count": 314,
   "metadata": {},
   "outputs": [
    {
     "data": {
      "text/plain": [
       "(not set)                                          865347\n",
       "Data Share Promo                                    16403\n",
       "AW - Dynamic Search Ads Whole Site                  14244\n",
       "AW - Accessories                                     7070\n",
       "test-liyuhz                                           392\n",
       "AW - Electronics                                       96\n",
       "Retail (DO NOT EDIT owners nophakun and tianyu)        50\n",
       "AW - Apparel                                           46\n",
       "All Products                                            4\n",
       "Data Share                                              1\n",
       "Name: trafficSource_campaign, dtype: int64"
      ]
     },
     "execution_count": 314,
     "metadata": {},
     "output_type": "execute_result"
    }
   ],
   "source": [
    "train['trafficSource_campaign'].value_counts()"
   ]
  },
  {
   "cell_type": "code",
   "execution_count": 311,
   "metadata": {},
   "outputs": [
    {
     "data": {
      "text/plain": [
       "7"
      ]
     },
     "execution_count": 311,
     "metadata": {},
     "output_type": "execute_result"
    }
   ],
   "source": [
    "len(train['trafficSource_medium'].unique())"
   ]
  },
  {
   "cell_type": "code",
   "execution_count": 315,
   "metadata": {},
   "outputs": [
    {
     "data": {
      "text/plain": [
       "organic      381561\n",
       "referral     330955\n",
       "(none)       143026\n",
       "cpc           25326\n",
       "affiliate     16403\n",
       "cpm            6262\n",
       "(not set)       120\n",
       "Name: trafficSource_medium, dtype: int64"
      ]
     },
     "execution_count": 315,
     "metadata": {},
     "output_type": "execute_result"
    }
   ],
   "source": [
    "train['trafficSource_medium'].value_counts()"
   ]
  },
  {
   "cell_type": "code",
   "execution_count": 312,
   "metadata": {},
   "outputs": [
    {
     "data": {
      "text/plain": [
       "380"
      ]
     },
     "execution_count": 312,
     "metadata": {},
     "output_type": "execute_result"
    }
   ],
   "source": [
    "len(train['trafficSource_source'].unique())"
   ]
  },
  {
   "cell_type": "code",
   "execution_count": 316,
   "metadata": {},
   "outputs": [
    {
     "data": {
      "text/plain": [
       "google                  400788\n",
       "youtube.com             212602\n",
       "(direct)                143028\n",
       "mall.googleplex.com      66416\n",
       "Partners                 16411\n",
       "analytics.google.com     16172\n",
       "dfa                       5686\n",
       "google.com                4669\n",
       "m.facebook.com            3365\n",
       "baidu                     3356\n",
       "Name: trafficSource_source, dtype: int64"
      ]
     },
     "execution_count": 316,
     "metadata": {},
     "output_type": "execute_result"
    }
   ],
   "source": [
    "train['trafficSource_source'].value_counts().head(n = 10)"
   ]
  },
  {
   "cell_type": "code",
   "execution_count": 317,
   "metadata": {},
   "outputs": [
    {
     "data": {
      "text/plain": [
       "['date',\n",
       " 'visitStartTime',\n",
       " 'sessionId',\n",
       " 'visitId',\n",
       " 'geoNetwork_networkDomain',\n",
       " 'totals_newVisits',\n",
       " 'trafficSource_adwordsClickInfo']"
      ]
     },
     "execution_count": 317,
     "metadata": {},
     "output_type": "execute_result"
    }
   ],
   "source": [
    "new_drop"
   ]
  },
  {
   "cell_type": "code",
   "execution_count": 320,
   "metadata": {},
   "outputs": [],
   "source": [
    "train.drop(new_drop, axis = 1, inplace = True)"
   ]
  },
  {
   "cell_type": "markdown",
   "metadata": {},
   "source": [
    "### There are 23 columns including our 2 target variables, effectively we have 21 columns to work with "
   ]
  },
  {
   "cell_type": "markdown",
   "metadata": {},
   "source": [
    "## Exploration and Visualization"
   ]
  },
  {
   "cell_type": "code",
   "execution_count": 321,
   "metadata": {},
   "outputs": [
    {
     "data": {
      "text/plain": [
       "Index(['channelGrouping', 'fullVisitorId', 'visitNumber', 'device_browser',\n",
       "       'device_deviceCategory', 'device_isMobile', 'device_operatingSystem',\n",
       "       'geoNetwork_city', 'geoNetwork_continent', 'geoNetwork_country',\n",
       "       'geoNetwork_metro', 'geoNetwork_region', 'geoNetwork_subContinent',\n",
       "       'totals_hits', 'totals_pageviews', 'totals_transactionRevenue',\n",
       "       'trafficSource_campaign', 'trafficSource_medium',\n",
       "       'trafficSource_source', 'revenue_category', 'visitDate', 'visitTime',\n",
       "       'totals_isNewVisit'],\n",
       "      dtype='object')"
      ]
     },
     "execution_count": 321,
     "metadata": {},
     "output_type": "execute_result"
    }
   ],
   "source": [
    "train.columns"
   ]
  },
  {
   "cell_type": "code",
   "execution_count": 322,
   "metadata": {},
   "outputs": [
    {
     "data": {
      "text/html": [
       "<script>requirejs.config({paths: { 'plotly': ['https://cdn.plot.ly/plotly-latest.min']},});if(!window.Plotly) {{require(['plotly'],function(plotly) {window.Plotly=plotly;});}}</script>"
      ],
      "text/vnd.plotly.v1+html": [
       "<script>requirejs.config({paths: { 'plotly': ['https://cdn.plot.ly/plotly-latest.min']},});if(!window.Plotly) {{require(['plotly'],function(plotly) {window.Plotly=plotly;});}}</script>"
      ]
     },
     "metadata": {},
     "output_type": "display_data"
    }
   ],
   "source": [
    "import plotly\n",
    "import cufflinks as cf\n",
    "from plotly.offline import download_plotlyjs, init_notebook_mode, plot, iplot\n",
    "init_notebook_mode(connected = True)"
   ]
  },
  {
   "cell_type": "code",
   "execution_count": 330,
   "metadata": {
    "collapsed": true
   },
   "outputs": [],
   "source": [
    "import plotly.graph_objs as go"
   ]
  },
  {
   "cell_type": "code",
   "execution_count": 337,
   "metadata": {
    "collapsed": true
   },
   "outputs": [],
   "source": [
    "# Categorical columns will be visualized using combination charts\n",
    "device_cols = ['device_browser','device_deviceCategory', 'device_isMobile', 'device_operatingSystem']\n",
    "geoNetwork_cols = ['geoNetwork_city','geoNetwork_continent','geoNetwork_country',\n",
    "       'geoNetwork_metro', 'geoNetwork_region', 'geoNetwork_subContinent']\n",
    "totals_cols = ['totals_isNewVisit']\n",
    "trafficSource_cols = ['trafficSource_campaign','trafficSource_medium','trafficSource_source']\n",
    "misc_cols = ['channelGrouping']"
   ]
  },
  {
   "cell_type": "code",
   "execution_count": 328,
   "metadata": {},
   "outputs": [],
   "source": [
    "train['visitNumber'] = train['visitNumber'].astype('int')"
   ]
  },
  {
   "cell_type": "code",
   "execution_count": 332,
   "metadata": {},
   "outputs": [
    {
     "data": {
      "application/vnd.plotly.v1+json": {
       "data": [
        {
         "name": "count",
         "type": "bar",
         "uid": "b529ec30-dce2-11e8-9057-a0afbde3f75b",
         "x": [
          "(not set)",
          "0",
          "ADM",
          "Amazon Silk",
          "Android Browser",
          "Android Runtime",
          "Android Webview",
          "Apple-iPhone7C2",
          "BlackBerry",
          "CSM Click"
         ],
         "y": [
          8,
          7,
          1,
          561,
          553,
          2,
          7865,
          9,
          184,
          1
         ]
        },
        {
         "name": "revenue",
         "type": "scatter",
         "uid": "b529ec31-dce2-11e8-9057-a0afbde3f75b",
         "x": [
          "(not set)",
          "0",
          "ADM",
          "Amazon Silk",
          "Android Browser",
          "Android Runtime",
          "Android Webview",
          "Apple-iPhone7C2",
          "BlackBerry",
          "CSM Click"
         ],
         "y": [
          0,
          0,
          0,
          53458.110516934044,
          0,
          0,
          14602.670057215511,
          0,
          0,
          0
         ],
         "yaxis": "y2"
        }
       ],
       "layout": {
        "title": "device_browser",
        "yaxis": {
         "rangemode": "tozero",
         "showgrid": false,
         "title": "count"
        },
        "yaxis2": {
         "overlaying": "y",
         "rangemode": "tozero",
         "showgrid": false,
         "side": "right",
         "title": "revenue"
        }
       }
      },
      "text/html": [
       "<div id=\"04aad402-7826-4f16-80ce-c7542d9575d6\" style=\"height: 525px; width: 100%;\" class=\"plotly-graph-div\"></div><script type=\"text/javascript\">require([\"plotly\"], function(Plotly) { window.PLOTLYENV=window.PLOTLYENV || {};window.PLOTLYENV.BASE_URL=\"https://plot.ly\";Plotly.newPlot(\"04aad402-7826-4f16-80ce-c7542d9575d6\", [{\"name\": \"count\", \"x\": [\"(not set)\", \"0\", \"ADM\", \"Amazon Silk\", \"Android Browser\", \"Android Runtime\", \"Android Webview\", \"Apple-iPhone7C2\", \"BlackBerry\", \"CSM Click\"], \"y\": [8, 7, 1, 561, 553, 2, 7865, 9, 184, 1], \"type\": \"bar\", \"uid\": \"b529ec30-dce2-11e8-9057-a0afbde3f75b\"}, {\"name\": \"revenue\", \"x\": [\"(not set)\", \"0\", \"ADM\", \"Amazon Silk\", \"Android Browser\", \"Android Runtime\", \"Android Webview\", \"Apple-iPhone7C2\", \"BlackBerry\", \"CSM Click\"], \"y\": [0.0, 0.0, 0.0, 53458.110516934044, 0.0, 0.0, 14602.670057215511, 0.0, 0.0, 0.0], \"yaxis\": \"y2\", \"type\": \"scatter\", \"uid\": \"b529ec31-dce2-11e8-9057-a0afbde3f75b\"}], {\"title\": \"device_browser\", \"yaxis\": {\"rangemode\": \"tozero\", \"showgrid\": false, \"title\": \"count\"}, \"yaxis2\": {\"overlaying\": \"y\", \"rangemode\": \"tozero\", \"showgrid\": false, \"side\": \"right\", \"title\": \"revenue\"}}, {\"showLink\": true, \"linkText\": \"Export to plot.ly\"})});</script>"
      ],
      "text/vnd.plotly.v1+html": [
       "<div id=\"04aad402-7826-4f16-80ce-c7542d9575d6\" style=\"height: 525px; width: 100%;\" class=\"plotly-graph-div\"></div><script type=\"text/javascript\">require([\"plotly\"], function(Plotly) { window.PLOTLYENV=window.PLOTLYENV || {};window.PLOTLYENV.BASE_URL=\"https://plot.ly\";Plotly.newPlot(\"04aad402-7826-4f16-80ce-c7542d9575d6\", [{\"name\": \"count\", \"x\": [\"(not set)\", \"0\", \"ADM\", \"Amazon Silk\", \"Android Browser\", \"Android Runtime\", \"Android Webview\", \"Apple-iPhone7C2\", \"BlackBerry\", \"CSM Click\"], \"y\": [8, 7, 1, 561, 553, 2, 7865, 9, 184, 1], \"type\": \"bar\", \"uid\": \"b529ec30-dce2-11e8-9057-a0afbde3f75b\"}, {\"name\": \"revenue\", \"x\": [\"(not set)\", \"0\", \"ADM\", \"Amazon Silk\", \"Android Browser\", \"Android Runtime\", \"Android Webview\", \"Apple-iPhone7C2\", \"BlackBerry\", \"CSM Click\"], \"y\": [0.0, 0.0, 0.0, 53458.110516934044, 0.0, 0.0, 14602.670057215511, 0.0, 0.0, 0.0], \"yaxis\": \"y2\", \"type\": \"scatter\", \"uid\": \"b529ec31-dce2-11e8-9057-a0afbde3f75b\"}], {\"title\": \"device_browser\", \"yaxis\": {\"rangemode\": \"tozero\", \"showgrid\": false, \"title\": \"count\"}, \"yaxis2\": {\"overlaying\": \"y\", \"rangemode\": \"tozero\", \"showgrid\": false, \"side\": \"right\", \"title\": \"revenue\"}}, {\"showLink\": true, \"linkText\": \"Export to plot.ly\"})});</script>"
      ]
     },
     "metadata": {},
     "output_type": "display_data"
    },
    {
     "data": {
      "application/vnd.plotly.v1+json": {
       "data": [
        {
         "name": "count",
         "type": "bar",
         "uid": "b6a2c960-dce2-11e8-9057-a0afbde3f75b",
         "x": [
          "desktop",
          "mobile",
          "tablet"
         ],
         "y": [
          664479,
          208725,
          30449
         ]
        },
        {
         "name": "revenue",
         "type": "scatter",
         "uid": "b6a2c961-dce2-11e8-9057-a0afbde3f75b",
         "x": [
          "desktop",
          "mobile",
          "tablet"
         ],
         "y": [
          2228609.316472003,
          238523.46388789077,
          309413.773851358
         ],
         "yaxis": "y2"
        }
       ],
       "layout": {
        "title": "device_deviceCategory",
        "yaxis": {
         "rangemode": "tozero",
         "showgrid": false,
         "title": "count"
        },
        "yaxis2": {
         "overlaying": "y",
         "rangemode": "tozero",
         "showgrid": false,
         "side": "right",
         "title": "revenue"
        }
       }
      },
      "text/html": [
       "<div id=\"76a26147-6b27-45a7-8a23-88bc0b3d4fab\" style=\"height: 525px; width: 100%;\" class=\"plotly-graph-div\"></div><script type=\"text/javascript\">require([\"plotly\"], function(Plotly) { window.PLOTLYENV=window.PLOTLYENV || {};window.PLOTLYENV.BASE_URL=\"https://plot.ly\";Plotly.newPlot(\"76a26147-6b27-45a7-8a23-88bc0b3d4fab\", [{\"name\": \"count\", \"x\": [\"desktop\", \"mobile\", \"tablet\"], \"y\": [664479, 208725, 30449], \"type\": \"bar\", \"uid\": \"b6a2c960-dce2-11e8-9057-a0afbde3f75b\"}, {\"name\": \"revenue\", \"x\": [\"desktop\", \"mobile\", \"tablet\"], \"y\": [2228609.316472003, 238523.46388789077, 309413.773851358], \"yaxis\": \"y2\", \"type\": \"scatter\", \"uid\": \"b6a2c961-dce2-11e8-9057-a0afbde3f75b\"}], {\"title\": \"device_deviceCategory\", \"yaxis\": {\"rangemode\": \"tozero\", \"showgrid\": false, \"title\": \"count\"}, \"yaxis2\": {\"overlaying\": \"y\", \"rangemode\": \"tozero\", \"showgrid\": false, \"side\": \"right\", \"title\": \"revenue\"}}, {\"showLink\": true, \"linkText\": \"Export to plot.ly\"})});</script>"
      ],
      "text/vnd.plotly.v1+html": [
       "<div id=\"76a26147-6b27-45a7-8a23-88bc0b3d4fab\" style=\"height: 525px; width: 100%;\" class=\"plotly-graph-div\"></div><script type=\"text/javascript\">require([\"plotly\"], function(Plotly) { window.PLOTLYENV=window.PLOTLYENV || {};window.PLOTLYENV.BASE_URL=\"https://plot.ly\";Plotly.newPlot(\"76a26147-6b27-45a7-8a23-88bc0b3d4fab\", [{\"name\": \"count\", \"x\": [\"desktop\", \"mobile\", \"tablet\"], \"y\": [664479, 208725, 30449], \"type\": \"bar\", \"uid\": \"b6a2c960-dce2-11e8-9057-a0afbde3f75b\"}, {\"name\": \"revenue\", \"x\": [\"desktop\", \"mobile\", \"tablet\"], \"y\": [2228609.316472003, 238523.46388789077, 309413.773851358], \"yaxis\": \"y2\", \"type\": \"scatter\", \"uid\": \"b6a2c961-dce2-11e8-9057-a0afbde3f75b\"}], {\"title\": \"device_deviceCategory\", \"yaxis\": {\"rangemode\": \"tozero\", \"showgrid\": false, \"title\": \"count\"}, \"yaxis2\": {\"overlaying\": \"y\", \"rangemode\": \"tozero\", \"showgrid\": false, \"side\": \"right\", \"title\": \"revenue\"}}, {\"showLink\": true, \"linkText\": \"Export to plot.ly\"})});</script>"
      ]
     },
     "metadata": {},
     "output_type": "display_data"
    },
    {
     "data": {
      "application/vnd.plotly.v1+json": {
       "data": [
        {
         "name": "count",
         "type": "bar",
         "uid": "b744dc6e-dce2-11e8-9057-a0afbde3f75b",
         "x": [
          0,
          1
         ],
         "y": [
          664530,
          239123
         ]
        },
        {
         "name": "revenue",
         "type": "scatter",
         "uid": "b744dc6f-dce2-11e8-9057-a0afbde3f75b",
         "x": [
          0,
          1
         ],
         "y": [
          2228389.433133192,
          247736.9805497589
         ],
         "yaxis": "y2"
        }
       ],
       "layout": {
        "title": "device_isMobile",
        "yaxis": {
         "rangemode": "tozero",
         "showgrid": false,
         "title": "count"
        },
        "yaxis2": {
         "overlaying": "y",
         "rangemode": "tozero",
         "showgrid": false,
         "side": "right",
         "title": "revenue"
        }
       }
      },
      "text/html": [
       "<div id=\"a5343447-f814-4f09-9869-a1c08f96652d\" style=\"height: 525px; width: 100%;\" class=\"plotly-graph-div\"></div><script type=\"text/javascript\">require([\"plotly\"], function(Plotly) { window.PLOTLYENV=window.PLOTLYENV || {};window.PLOTLYENV.BASE_URL=\"https://plot.ly\";Plotly.newPlot(\"a5343447-f814-4f09-9869-a1c08f96652d\", [{\"name\": \"count\", \"x\": [0, 1], \"y\": [664530, 239123], \"type\": \"bar\", \"uid\": \"b744dc6e-dce2-11e8-9057-a0afbde3f75b\"}, {\"name\": \"revenue\", \"x\": [0, 1], \"y\": [2228389.433133192, 247736.9805497589], \"yaxis\": \"y2\", \"type\": \"scatter\", \"uid\": \"b744dc6f-dce2-11e8-9057-a0afbde3f75b\"}], {\"title\": \"device_isMobile\", \"yaxis\": {\"rangemode\": \"tozero\", \"showgrid\": false, \"title\": \"count\"}, \"yaxis2\": {\"overlaying\": \"y\", \"rangemode\": \"tozero\", \"showgrid\": false, \"side\": \"right\", \"title\": \"revenue\"}}, {\"showLink\": true, \"linkText\": \"Export to plot.ly\"})});</script>"
      ],
      "text/vnd.plotly.v1+html": [
       "<div id=\"a5343447-f814-4f09-9869-a1c08f96652d\" style=\"height: 525px; width: 100%;\" class=\"plotly-graph-div\"></div><script type=\"text/javascript\">require([\"plotly\"], function(Plotly) { window.PLOTLYENV=window.PLOTLYENV || {};window.PLOTLYENV.BASE_URL=\"https://plot.ly\";Plotly.newPlot(\"a5343447-f814-4f09-9869-a1c08f96652d\", [{\"name\": \"count\", \"x\": [0, 1], \"y\": [664530, 239123], \"type\": \"bar\", \"uid\": \"b744dc6e-dce2-11e8-9057-a0afbde3f75b\"}, {\"name\": \"revenue\", \"x\": [0, 1], \"y\": [2228389.433133192, 247736.9805497589], \"yaxis\": \"y2\", \"type\": \"scatter\", \"uid\": \"b744dc6f-dce2-11e8-9057-a0afbde3f75b\"}], {\"title\": \"device_isMobile\", \"yaxis\": {\"rangemode\": \"tozero\", \"showgrid\": false, \"title\": \"count\"}, \"yaxis2\": {\"overlaying\": \"y\", \"rangemode\": \"tozero\", \"showgrid\": false, \"side\": \"right\", \"title\": \"revenue\"}}, {\"showLink\": true, \"linkText\": \"Export to plot.ly\"})});</script>"
      ]
     },
     "metadata": {},
     "output_type": "display_data"
    },
    {
     "data": {
      "application/vnd.plotly.v1+json": {
       "data": [
        {
         "name": "count",
         "type": "bar",
         "uid": "b938ea10-dce2-11e8-9057-a0afbde3f75b",
         "x": [
          "(not set)",
          "Android",
          "BlackBerry",
          "Chrome OS",
          "Firefox OS",
          "FreeBSD",
          "Linux",
          "Macintosh",
          "NTT DoCoMo",
          "Nintendo 3DS"
         ],
         "y": [
          4695,
          123892,
          218,
          26337,
          89,
          9,
          35034,
          253938,
          1,
          1
         ]
        },
        {
         "name": "revenue",
         "type": "scatter",
         "uid": "b938ea11-dce2-11e8-9057-a0afbde3f75b",
         "x": [
          "(not set)",
          "Android",
          "BlackBerry",
          "Chrome OS",
          "Firefox OS",
          "FreeBSD",
          "Linux",
          "Macintosh",
          "NTT DoCoMo",
          "Nintendo 3DS"
         ],
         "y": [
          0,
          293330.31995609077,
          0,
          6984005.391654327,
          0,
          0,
          1253365.3022777874,
          3372381.408060235,
          0,
          0
         ],
         "yaxis": "y2"
        }
       ],
       "layout": {
        "title": "device_operatingSystem",
        "yaxis": {
         "rangemode": "tozero",
         "showgrid": false,
         "title": "count"
        },
        "yaxis2": {
         "overlaying": "y",
         "rangemode": "tozero",
         "showgrid": false,
         "side": "right",
         "title": "revenue"
        }
       }
      },
      "text/html": [
       "<div id=\"279c4fef-d67b-4fcc-91b0-f2eed25ca428\" style=\"height: 525px; width: 100%;\" class=\"plotly-graph-div\"></div><script type=\"text/javascript\">require([\"plotly\"], function(Plotly) { window.PLOTLYENV=window.PLOTLYENV || {};window.PLOTLYENV.BASE_URL=\"https://plot.ly\";Plotly.newPlot(\"279c4fef-d67b-4fcc-91b0-f2eed25ca428\", [{\"name\": \"count\", \"x\": [\"(not set)\", \"Android\", \"BlackBerry\", \"Chrome OS\", \"Firefox OS\", \"FreeBSD\", \"Linux\", \"Macintosh\", \"NTT DoCoMo\", \"Nintendo 3DS\"], \"y\": [4695, 123892, 218, 26337, 89, 9, 35034, 253938, 1, 1], \"type\": \"bar\", \"uid\": \"b938ea10-dce2-11e8-9057-a0afbde3f75b\"}, {\"name\": \"revenue\", \"x\": [\"(not set)\", \"Android\", \"BlackBerry\", \"Chrome OS\", \"Firefox OS\", \"FreeBSD\", \"Linux\", \"Macintosh\", \"NTT DoCoMo\", \"Nintendo 3DS\"], \"y\": [0.0, 293330.31995609077, 0.0, 6984005.391654327, 0.0, 0.0, 1253365.3022777874, 3372381.408060235, 0.0, 0.0], \"yaxis\": \"y2\", \"type\": \"scatter\", \"uid\": \"b938ea11-dce2-11e8-9057-a0afbde3f75b\"}], {\"title\": \"device_operatingSystem\", \"yaxis\": {\"rangemode\": \"tozero\", \"showgrid\": false, \"title\": \"count\"}, \"yaxis2\": {\"overlaying\": \"y\", \"rangemode\": \"tozero\", \"showgrid\": false, \"side\": \"right\", \"title\": \"revenue\"}}, {\"showLink\": true, \"linkText\": \"Export to plot.ly\"})});</script>"
      ],
      "text/vnd.plotly.v1+html": [
       "<div id=\"279c4fef-d67b-4fcc-91b0-f2eed25ca428\" style=\"height: 525px; width: 100%;\" class=\"plotly-graph-div\"></div><script type=\"text/javascript\">require([\"plotly\"], function(Plotly) { window.PLOTLYENV=window.PLOTLYENV || {};window.PLOTLYENV.BASE_URL=\"https://plot.ly\";Plotly.newPlot(\"279c4fef-d67b-4fcc-91b0-f2eed25ca428\", [{\"name\": \"count\", \"x\": [\"(not set)\", \"Android\", \"BlackBerry\", \"Chrome OS\", \"Firefox OS\", \"FreeBSD\", \"Linux\", \"Macintosh\", \"NTT DoCoMo\", \"Nintendo 3DS\"], \"y\": [4695, 123892, 218, 26337, 89, 9, 35034, 253938, 1, 1], \"type\": \"bar\", \"uid\": \"b938ea10-dce2-11e8-9057-a0afbde3f75b\"}, {\"name\": \"revenue\", \"x\": [\"(not set)\", \"Android\", \"BlackBerry\", \"Chrome OS\", \"Firefox OS\", \"FreeBSD\", \"Linux\", \"Macintosh\", \"NTT DoCoMo\", \"Nintendo 3DS\"], \"y\": [0.0, 293330.31995609077, 0.0, 6984005.391654327, 0.0, 0.0, 1253365.3022777874, 3372381.408060235, 0.0, 0.0], \"yaxis\": \"y2\", \"type\": \"scatter\", \"uid\": \"b938ea11-dce2-11e8-9057-a0afbde3f75b\"}], {\"title\": \"device_operatingSystem\", \"yaxis\": {\"rangemode\": \"tozero\", \"showgrid\": false, \"title\": \"count\"}, \"yaxis2\": {\"overlaying\": \"y\", \"rangemode\": \"tozero\", \"showgrid\": false, \"side\": \"right\", \"title\": \"revenue\"}}, {\"showLink\": true, \"linkText\": \"Export to plot.ly\"})});</script>"
      ]
     },
     "metadata": {},
     "output_type": "display_data"
    }
   ],
   "source": [
    "for i in device_cols:\n",
    "    cnt_cat = train[i].value_counts().sort_index().head(n=10)\n",
    "    trans_cat = train.sort_values(i).groupby(i, as_index = False)['totals_transactionRevenue'].mean().head(n=10)\n",
    "    cnt_cat_x = cnt_cat.index.tolist()\n",
    "    cnt_cat_y = cnt_cat.values.tolist()\n",
    "    trans_cat_x = trans_cat[i].tolist()\n",
    "    trans_cat_y = trans_cat['totals_transactionRevenue'].tolist()\n",
    "    trace1 = go.Bar(x=cnt_cat_x,y=cnt_cat_y, name = \"count\")\n",
    "    trace2 = go.Scatter(x=trans_cat_x, y = trans_cat_y, name = \"revenue\", yaxis = 'y2')\n",
    "    data = [trace1, trace2]\n",
    "    layout = go.Layout(\n",
    "        title = i,\n",
    "        yaxis = dict(\n",
    "            title = \"count\",\n",
    "            rangemode = 'tozero',\n",
    "            showgrid = False\n",
    "        ),\n",
    "        yaxis2 = dict(\n",
    "            title = \"revenue\",\n",
    "            showgrid = False,\n",
    "            overlaying = \"y\",\n",
    "            rangemode = 'tozero', # rangemode used for aligning\n",
    "            side=\"right\")\n",
    "    )\n",
    "    fig = go.Figure(data=data, layout=layout)\n",
    "    #fig.append_trace()\n",
    "    #arr.append(fig1)\n",
    "    iplot(fig)\n",
    "#fig.append_trace(arr[0], 1, 1)\n",
    "#fig.append_trace(arr[1], 1, 2)\n",
    "#fig.append_trace(arr[2], 1, 3)\n",
    "\n",
    "#    fig = go.Figure(data=data, layout=layout)\n",
    "#iplot(fig)"
   ]
  },
  {
   "cell_type": "code",
   "execution_count": 333,
   "metadata": {},
   "outputs": [
    {
     "data": {
      "application/vnd.plotly.v1+json": {
       "data": [
        {
         "name": "count",
         "type": "bar",
         "uid": "e9db7a3e-dce2-11e8-9057-a0afbde3f75b",
         "x": [
          "'s Hertogenbosch",
          "(not set)",
          "Aalborg",
          "Aalen",
          "Aberdeen",
          "Abu Dhabi",
          "Adana",
          "Adelaide",
          "Ahmedabad",
          "Akron"
         ],
         "y": [
          7,
          34262,
          41,
          9,
          21,
          95,
          188,
          18,
          916,
          66
         ]
        },
        {
         "name": "revenue",
         "type": "scatter",
         "uid": "e9db7a3f-dce2-11e8-9057-a0afbde3f75b",
         "x": [
          "'s Hertogenbosch",
          "(not set)",
          "Aalborg",
          "Aalen",
          "Aberdeen",
          "Abu Dhabi",
          "Adana",
          "Adelaide",
          "Ahmedabad",
          "Akron"
         ],
         "y": [
          0,
          127111.37703578308,
          0,
          0,
          0,
          0,
          0,
          0,
          25578.602620087335,
          0
         ],
         "yaxis": "y2"
        }
       ],
       "layout": {
        "title": "geoNetwork_city",
        "yaxis": {
         "rangemode": "tozero",
         "showgrid": false,
         "title": "count"
        },
        "yaxis2": {
         "overlaying": "y",
         "rangemode": "tozero",
         "showgrid": false,
         "side": "right",
         "title": "revenue"
        }
       }
      },
      "text/html": [
       "<div id=\"692e84af-5550-4f48-ac7f-6c71a045e7e8\" style=\"height: 525px; width: 100%;\" class=\"plotly-graph-div\"></div><script type=\"text/javascript\">require([\"plotly\"], function(Plotly) { window.PLOTLYENV=window.PLOTLYENV || {};window.PLOTLYENV.BASE_URL=\"https://plot.ly\";Plotly.newPlot(\"692e84af-5550-4f48-ac7f-6c71a045e7e8\", [{\"name\": \"count\", \"x\": [\"'s Hertogenbosch\", \"(not set)\", \"Aalborg\", \"Aalen\", \"Aberdeen\", \"Abu Dhabi\", \"Adana\", \"Adelaide\", \"Ahmedabad\", \"Akron\"], \"y\": [7, 34262, 41, 9, 21, 95, 188, 18, 916, 66], \"type\": \"bar\", \"uid\": \"e9db7a3e-dce2-11e8-9057-a0afbde3f75b\"}, {\"name\": \"revenue\", \"x\": [\"'s Hertogenbosch\", \"(not set)\", \"Aalborg\", \"Aalen\", \"Aberdeen\", \"Abu Dhabi\", \"Adana\", \"Adelaide\", \"Ahmedabad\", \"Akron\"], \"y\": [0.0, 127111.37703578308, 0.0, 0.0, 0.0, 0.0, 0.0, 0.0, 25578.602620087335, 0.0], \"yaxis\": \"y2\", \"type\": \"scatter\", \"uid\": \"e9db7a3f-dce2-11e8-9057-a0afbde3f75b\"}], {\"title\": \"geoNetwork_city\", \"yaxis\": {\"rangemode\": \"tozero\", \"showgrid\": false, \"title\": \"count\"}, \"yaxis2\": {\"overlaying\": \"y\", \"rangemode\": \"tozero\", \"showgrid\": false, \"side\": \"right\", \"title\": \"revenue\"}}, {\"showLink\": true, \"linkText\": \"Export to plot.ly\"})});</script>"
      ],
      "text/vnd.plotly.v1+html": [
       "<div id=\"692e84af-5550-4f48-ac7f-6c71a045e7e8\" style=\"height: 525px; width: 100%;\" class=\"plotly-graph-div\"></div><script type=\"text/javascript\">require([\"plotly\"], function(Plotly) { window.PLOTLYENV=window.PLOTLYENV || {};window.PLOTLYENV.BASE_URL=\"https://plot.ly\";Plotly.newPlot(\"692e84af-5550-4f48-ac7f-6c71a045e7e8\", [{\"name\": \"count\", \"x\": [\"'s Hertogenbosch\", \"(not set)\", \"Aalborg\", \"Aalen\", \"Aberdeen\", \"Abu Dhabi\", \"Adana\", \"Adelaide\", \"Ahmedabad\", \"Akron\"], \"y\": [7, 34262, 41, 9, 21, 95, 188, 18, 916, 66], \"type\": \"bar\", \"uid\": \"e9db7a3e-dce2-11e8-9057-a0afbde3f75b\"}, {\"name\": \"revenue\", \"x\": [\"'s Hertogenbosch\", \"(not set)\", \"Aalborg\", \"Aalen\", \"Aberdeen\", \"Abu Dhabi\", \"Adana\", \"Adelaide\", \"Ahmedabad\", \"Akron\"], \"y\": [0.0, 127111.37703578308, 0.0, 0.0, 0.0, 0.0, 0.0, 0.0, 25578.602620087335, 0.0], \"yaxis\": \"y2\", \"type\": \"scatter\", \"uid\": \"e9db7a3f-dce2-11e8-9057-a0afbde3f75b\"}], {\"title\": \"geoNetwork_city\", \"yaxis\": {\"rangemode\": \"tozero\", \"showgrid\": false, \"title\": \"count\"}, \"yaxis2\": {\"overlaying\": \"y\", \"rangemode\": \"tozero\", \"showgrid\": false, \"side\": \"right\", \"title\": \"revenue\"}}, {\"showLink\": true, \"linkText\": \"Export to plot.ly\"})});</script>"
      ]
     },
     "metadata": {},
     "output_type": "display_data"
    },
    {
     "data": {
      "application/vnd.plotly.v1+json": {
       "data": [
        {
         "name": "count",
         "type": "bar",
         "uid": "ebc97c9c-dce2-11e8-9057-a0afbde3f75b",
         "x": [
          "(not set)",
          "Africa",
          "Americas",
          "Asia",
          "Europe",
          "Oceania"
         ],
         "y": [
          1468,
          14745,
          450377,
          223698,
          198311,
          15054
         ]
        },
        {
         "name": "revenue",
         "type": "scatter",
         "uid": "ebc97c9d-dce2-11e8-9057-a0afbde3f75b",
         "x": [
          "(not set)",
          "Africa",
          "Americas",
          "Asia",
          "Europe",
          "Oceania"
         ],
         "y": [
          524373.2970027248,
          589200.4069175991,
          3340915.7217175835,
          77791.6655490885,
          34022.4697570987,
          119119.83525973163
         ],
         "yaxis": "y2"
        }
       ],
       "layout": {
        "title": "geoNetwork_continent",
        "yaxis": {
         "rangemode": "tozero",
         "showgrid": false,
         "title": "count"
        },
        "yaxis2": {
         "overlaying": "y",
         "rangemode": "tozero",
         "showgrid": false,
         "side": "right",
         "title": "revenue"
        }
       }
      },
      "text/html": [
       "<div id=\"dcac486d-7431-4506-a190-f2ff6016db25\" style=\"height: 525px; width: 100%;\" class=\"plotly-graph-div\"></div><script type=\"text/javascript\">require([\"plotly\"], function(Plotly) { window.PLOTLYENV=window.PLOTLYENV || {};window.PLOTLYENV.BASE_URL=\"https://plot.ly\";Plotly.newPlot(\"dcac486d-7431-4506-a190-f2ff6016db25\", [{\"name\": \"count\", \"x\": [\"(not set)\", \"Africa\", \"Americas\", \"Asia\", \"Europe\", \"Oceania\"], \"y\": [1468, 14745, 450377, 223698, 198311, 15054], \"type\": \"bar\", \"uid\": \"ebc97c9c-dce2-11e8-9057-a0afbde3f75b\"}, {\"name\": \"revenue\", \"x\": [\"(not set)\", \"Africa\", \"Americas\", \"Asia\", \"Europe\", \"Oceania\"], \"y\": [524373.2970027248, 589200.4069175991, 3340915.7217175835, 77791.6655490885, 34022.4697570987, 119119.83525973163], \"yaxis\": \"y2\", \"type\": \"scatter\", \"uid\": \"ebc97c9d-dce2-11e8-9057-a0afbde3f75b\"}], {\"title\": \"geoNetwork_continent\", \"yaxis\": {\"rangemode\": \"tozero\", \"showgrid\": false, \"title\": \"count\"}, \"yaxis2\": {\"overlaying\": \"y\", \"rangemode\": \"tozero\", \"showgrid\": false, \"side\": \"right\", \"title\": \"revenue\"}}, {\"showLink\": true, \"linkText\": \"Export to plot.ly\"})});</script>"
      ],
      "text/vnd.plotly.v1+html": [
       "<div id=\"dcac486d-7431-4506-a190-f2ff6016db25\" style=\"height: 525px; width: 100%;\" class=\"plotly-graph-div\"></div><script type=\"text/javascript\">require([\"plotly\"], function(Plotly) { window.PLOTLYENV=window.PLOTLYENV || {};window.PLOTLYENV.BASE_URL=\"https://plot.ly\";Plotly.newPlot(\"dcac486d-7431-4506-a190-f2ff6016db25\", [{\"name\": \"count\", \"x\": [\"(not set)\", \"Africa\", \"Americas\", \"Asia\", \"Europe\", \"Oceania\"], \"y\": [1468, 14745, 450377, 223698, 198311, 15054], \"type\": \"bar\", \"uid\": \"ebc97c9c-dce2-11e8-9057-a0afbde3f75b\"}, {\"name\": \"revenue\", \"x\": [\"(not set)\", \"Africa\", \"Americas\", \"Asia\", \"Europe\", \"Oceania\"], \"y\": [524373.2970027248, 589200.4069175991, 3340915.7217175835, 77791.6655490885, 34022.4697570987, 119119.83525973163], \"yaxis\": \"y2\", \"type\": \"scatter\", \"uid\": \"ebc97c9d-dce2-11e8-9057-a0afbde3f75b\"}], {\"title\": \"geoNetwork_continent\", \"yaxis\": {\"rangemode\": \"tozero\", \"showgrid\": false, \"title\": \"count\"}, \"yaxis2\": {\"overlaying\": \"y\", \"rangemode\": \"tozero\", \"showgrid\": false, \"side\": \"right\", \"title\": \"revenue\"}}, {\"showLink\": true, \"linkText\": \"Export to plot.ly\"})});</script>"
      ]
     },
     "metadata": {},
     "output_type": "display_data"
    },
    {
     "data": {
      "application/vnd.plotly.v1+json": {
       "data": [
        {
         "name": "count",
         "type": "bar",
         "uid": "ee8728f8-dce2-11e8-9057-a0afbde3f75b",
         "x": [
          "(not set)",
          "Afghanistan",
          "Albania",
          "Algeria",
          "American Samoa",
          "Andorra",
          "Angola",
          "Anguilla",
          "Antigua & Barbuda",
          "Argentina"
         ],
         "y": [
          1468,
          57,
          547,
          2055,
          1,
          17,
          58,
          1,
          5,
          5037
         ]
        },
        {
         "name": "revenue",
         "type": "scatter",
         "uid": "ee8728f9-dce2-11e8-9057-a0afbde3f75b",
         "x": [
          "(not set)",
          "Afghanistan",
          "Albania",
          "Algeria",
          "American Samoa",
          "Andorra",
          "Angola",
          "Anguilla",
          "Antigua & Barbuda",
          "Argentina"
         ],
         "y": [
          524373.2970027248,
          0,
          0,
          0,
          0,
          0,
          0,
          10990000,
          0,
          52102.44192972007
         ],
         "yaxis": "y2"
        }
       ],
       "layout": {
        "title": "geoNetwork_country",
        "yaxis": {
         "rangemode": "tozero",
         "showgrid": false,
         "title": "count"
        },
        "yaxis2": {
         "overlaying": "y",
         "rangemode": "tozero",
         "showgrid": false,
         "side": "right",
         "title": "revenue"
        }
       }
      },
      "text/html": [
       "<div id=\"b6eaeeee-4b1e-4b25-8dad-e4ae8606e90b\" style=\"height: 525px; width: 100%;\" class=\"plotly-graph-div\"></div><script type=\"text/javascript\">require([\"plotly\"], function(Plotly) { window.PLOTLYENV=window.PLOTLYENV || {};window.PLOTLYENV.BASE_URL=\"https://plot.ly\";Plotly.newPlot(\"b6eaeeee-4b1e-4b25-8dad-e4ae8606e90b\", [{\"name\": \"count\", \"x\": [\"(not set)\", \"Afghanistan\", \"Albania\", \"Algeria\", \"American Samoa\", \"Andorra\", \"Angola\", \"Anguilla\", \"Antigua & Barbuda\", \"Argentina\"], \"y\": [1468, 57, 547, 2055, 1, 17, 58, 1, 5, 5037], \"type\": \"bar\", \"uid\": \"ee8728f8-dce2-11e8-9057-a0afbde3f75b\"}, {\"name\": \"revenue\", \"x\": [\"(not set)\", \"Afghanistan\", \"Albania\", \"Algeria\", \"American Samoa\", \"Andorra\", \"Angola\", \"Anguilla\", \"Antigua & Barbuda\", \"Argentina\"], \"y\": [524373.2970027248, 0.0, 0.0, 0.0, 0.0, 0.0, 0.0, 10990000.0, 0.0, 52102.44192972007], \"yaxis\": \"y2\", \"type\": \"scatter\", \"uid\": \"ee8728f9-dce2-11e8-9057-a0afbde3f75b\"}], {\"title\": \"geoNetwork_country\", \"yaxis\": {\"rangemode\": \"tozero\", \"showgrid\": false, \"title\": \"count\"}, \"yaxis2\": {\"overlaying\": \"y\", \"rangemode\": \"tozero\", \"showgrid\": false, \"side\": \"right\", \"title\": \"revenue\"}}, {\"showLink\": true, \"linkText\": \"Export to plot.ly\"})});</script>"
      ],
      "text/vnd.plotly.v1+html": [
       "<div id=\"b6eaeeee-4b1e-4b25-8dad-e4ae8606e90b\" style=\"height: 525px; width: 100%;\" class=\"plotly-graph-div\"></div><script type=\"text/javascript\">require([\"plotly\"], function(Plotly) { window.PLOTLYENV=window.PLOTLYENV || {};window.PLOTLYENV.BASE_URL=\"https://plot.ly\";Plotly.newPlot(\"b6eaeeee-4b1e-4b25-8dad-e4ae8606e90b\", [{\"name\": \"count\", \"x\": [\"(not set)\", \"Afghanistan\", \"Albania\", \"Algeria\", \"American Samoa\", \"Andorra\", \"Angola\", \"Anguilla\", \"Antigua & Barbuda\", \"Argentina\"], \"y\": [1468, 57, 547, 2055, 1, 17, 58, 1, 5, 5037], \"type\": \"bar\", \"uid\": \"ee8728f8-dce2-11e8-9057-a0afbde3f75b\"}, {\"name\": \"revenue\", \"x\": [\"(not set)\", \"Afghanistan\", \"Albania\", \"Algeria\", \"American Samoa\", \"Andorra\", \"Angola\", \"Anguilla\", \"Antigua & Barbuda\", \"Argentina\"], \"y\": [524373.2970027248, 0.0, 0.0, 0.0, 0.0, 0.0, 0.0, 10990000.0, 0.0, 52102.44192972007], \"yaxis\": \"y2\", \"type\": \"scatter\", \"uid\": \"ee8728f9-dce2-11e8-9057-a0afbde3f75b\"}], {\"title\": \"geoNetwork_country\", \"yaxis\": {\"rangemode\": \"tozero\", \"showgrid\": false, \"title\": \"count\"}, \"yaxis2\": {\"overlaying\": \"y\", \"rangemode\": \"tozero\", \"showgrid\": false, \"side\": \"right\", \"title\": \"revenue\"}}, {\"showLink\": true, \"linkText\": \"Export to plot.ly\"})});</script>"
      ]
     },
     "metadata": {},
     "output_type": "display_data"
    },
    {
     "data": {
      "application/vnd.plotly.v1+json": {
       "data": [
        {
         "name": "count",
         "type": "bar",
         "uid": "f09893de-dce2-11e8-9057-a0afbde3f75b",
         "x": [
          "(not set)",
          "Abilene-Sweetwater TX",
          "Albany-Schenectady-Troy NY",
          "Atlanta GA",
          "Augusta GA",
          "Austin TX",
          "Baltimore MD",
          "Boise ID",
          "Boston MA-Manchester NH",
          "Butte-Bozeman MT"
         ],
         "y": [
          201766,
          10,
          19,
          2463,
          7,
          3790,
          32,
          3,
          2628,
          3
         ]
        },
        {
         "name": "revenue",
         "type": "scatter",
         "uid": "f09893df-dce2-11e8-9057-a0afbde3f75b",
         "x": [
          "(not set)",
          "Abilene-Sweetwater TX",
          "Albany-Schenectady-Troy NY",
          "Atlanta GA",
          "Augusta GA",
          "Austin TX",
          "Baltimore MD",
          "Boise ID",
          "Boston MA-Manchester NH",
          "Butte-Bozeman MT"
         ],
         "y": [
          210078.50678508767,
          0,
          0,
          7133503.857084855,
          0,
          5489440.633245382,
          874375,
          0,
          8640742.00913242,
          0
         ],
         "yaxis": "y2"
        }
       ],
       "layout": {
        "title": "geoNetwork_metro",
        "yaxis": {
         "rangemode": "tozero",
         "showgrid": false,
         "title": "count"
        },
        "yaxis2": {
         "overlaying": "y",
         "rangemode": "tozero",
         "showgrid": false,
         "side": "right",
         "title": "revenue"
        }
       }
      },
      "text/html": [
       "<div id=\"20dde2d6-b33f-4df2-9eb1-022e9cf6670f\" style=\"height: 525px; width: 100%;\" class=\"plotly-graph-div\"></div><script type=\"text/javascript\">require([\"plotly\"], function(Plotly) { window.PLOTLYENV=window.PLOTLYENV || {};window.PLOTLYENV.BASE_URL=\"https://plot.ly\";Plotly.newPlot(\"20dde2d6-b33f-4df2-9eb1-022e9cf6670f\", [{\"name\": \"count\", \"x\": [\"(not set)\", \"Abilene-Sweetwater TX\", \"Albany-Schenectady-Troy NY\", \"Atlanta GA\", \"Augusta GA\", \"Austin TX\", \"Baltimore MD\", \"Boise ID\", \"Boston MA-Manchester NH\", \"Butte-Bozeman MT\"], \"y\": [201766, 10, 19, 2463, 7, 3790, 32, 3, 2628, 3], \"type\": \"bar\", \"uid\": \"f09893de-dce2-11e8-9057-a0afbde3f75b\"}, {\"name\": \"revenue\", \"x\": [\"(not set)\", \"Abilene-Sweetwater TX\", \"Albany-Schenectady-Troy NY\", \"Atlanta GA\", \"Augusta GA\", \"Austin TX\", \"Baltimore MD\", \"Boise ID\", \"Boston MA-Manchester NH\", \"Butte-Bozeman MT\"], \"y\": [210078.50678508767, 0.0, 0.0, 7133503.857084855, 0.0, 5489440.633245382, 874375.0, 0.0, 8640742.00913242, 0.0], \"yaxis\": \"y2\", \"type\": \"scatter\", \"uid\": \"f09893df-dce2-11e8-9057-a0afbde3f75b\"}], {\"title\": \"geoNetwork_metro\", \"yaxis\": {\"rangemode\": \"tozero\", \"showgrid\": false, \"title\": \"count\"}, \"yaxis2\": {\"overlaying\": \"y\", \"rangemode\": \"tozero\", \"showgrid\": false, \"side\": \"right\", \"title\": \"revenue\"}}, {\"showLink\": true, \"linkText\": \"Export to plot.ly\"})});</script>"
      ],
      "text/vnd.plotly.v1+html": [
       "<div id=\"20dde2d6-b33f-4df2-9eb1-022e9cf6670f\" style=\"height: 525px; width: 100%;\" class=\"plotly-graph-div\"></div><script type=\"text/javascript\">require([\"plotly\"], function(Plotly) { window.PLOTLYENV=window.PLOTLYENV || {};window.PLOTLYENV.BASE_URL=\"https://plot.ly\";Plotly.newPlot(\"20dde2d6-b33f-4df2-9eb1-022e9cf6670f\", [{\"name\": \"count\", \"x\": [\"(not set)\", \"Abilene-Sweetwater TX\", \"Albany-Schenectady-Troy NY\", \"Atlanta GA\", \"Augusta GA\", \"Austin TX\", \"Baltimore MD\", \"Boise ID\", \"Boston MA-Manchester NH\", \"Butte-Bozeman MT\"], \"y\": [201766, 10, 19, 2463, 7, 3790, 32, 3, 2628, 3], \"type\": \"bar\", \"uid\": \"f09893de-dce2-11e8-9057-a0afbde3f75b\"}, {\"name\": \"revenue\", \"x\": [\"(not set)\", \"Abilene-Sweetwater TX\", \"Albany-Schenectady-Troy NY\", \"Atlanta GA\", \"Augusta GA\", \"Austin TX\", \"Baltimore MD\", \"Boise ID\", \"Boston MA-Manchester NH\", \"Butte-Bozeman MT\"], \"y\": [210078.50678508767, 0.0, 0.0, 7133503.857084855, 0.0, 5489440.633245382, 874375.0, 0.0, 8640742.00913242, 0.0], \"yaxis\": \"y2\", \"type\": \"scatter\", \"uid\": \"f09893df-dce2-11e8-9057-a0afbde3f75b\"}], {\"title\": \"geoNetwork_metro\", \"yaxis\": {\"rangemode\": \"tozero\", \"showgrid\": false, \"title\": \"count\"}, \"yaxis2\": {\"overlaying\": \"y\", \"rangemode\": \"tozero\", \"showgrid\": false, \"side\": \"right\", \"title\": \"revenue\"}}, {\"showLink\": true, \"linkText\": \"Export to plot.ly\"})});</script>"
      ]
     },
     "metadata": {},
     "output_type": "display_data"
    },
    {
     "data": {
      "application/vnd.plotly.v1+json": {
       "data": [
        {
         "name": "count",
         "type": "bar",
         "uid": "f30c31e8-dce2-11e8-9057-a0afbde3f75b",
         "x": [
          "(not set)",
          "Abruzzo",
          "Abu Dhabi",
          "Adana",
          "Aichi Prefecture",
          "Al Madinah Province",
          "Alba County",
          "Alberta",
          "Alexandria Governorate",
          "Algiers Province"
         ],
         "y": [
          27827,
          6,
          95,
          188,
          8,
          9,
          21,
          254,
          52,
          46
         ]
        },
        {
         "name": "revenue",
         "type": "scatter",
         "uid": "f30c31e9-dce2-11e8-9057-a0afbde3f75b",
         "x": [
          "(not set)",
          "Abruzzo",
          "Abu Dhabi",
          "Adana",
          "Aichi Prefecture",
          "Al Madinah Province",
          "Alba County",
          "Alberta",
          "Alexandria Governorate",
          "Algiers Province"
         ],
         "y": [
          190754.6627376289,
          0,
          0,
          0,
          0,
          0,
          0,
          3455433.070866142,
          0,
          0
         ],
         "yaxis": "y2"
        }
       ],
       "layout": {
        "title": "geoNetwork_region",
        "yaxis": {
         "rangemode": "tozero",
         "showgrid": false,
         "title": "count"
        },
        "yaxis2": {
         "overlaying": "y",
         "rangemode": "tozero",
         "showgrid": false,
         "side": "right",
         "title": "revenue"
        }
       }
      },
      "text/html": [
       "<div id=\"a5150e6c-8c8c-49d3-aabb-923ef0835cf5\" style=\"height: 525px; width: 100%;\" class=\"plotly-graph-div\"></div><script type=\"text/javascript\">require([\"plotly\"], function(Plotly) { window.PLOTLYENV=window.PLOTLYENV || {};window.PLOTLYENV.BASE_URL=\"https://plot.ly\";Plotly.newPlot(\"a5150e6c-8c8c-49d3-aabb-923ef0835cf5\", [{\"name\": \"count\", \"x\": [\"(not set)\", \"Abruzzo\", \"Abu Dhabi\", \"Adana\", \"Aichi Prefecture\", \"Al Madinah Province\", \"Alba County\", \"Alberta\", \"Alexandria Governorate\", \"Algiers Province\"], \"y\": [27827, 6, 95, 188, 8, 9, 21, 254, 52, 46], \"type\": \"bar\", \"uid\": \"f30c31e8-dce2-11e8-9057-a0afbde3f75b\"}, {\"name\": \"revenue\", \"x\": [\"(not set)\", \"Abruzzo\", \"Abu Dhabi\", \"Adana\", \"Aichi Prefecture\", \"Al Madinah Province\", \"Alba County\", \"Alberta\", \"Alexandria Governorate\", \"Algiers Province\"], \"y\": [190754.6627376289, 0.0, 0.0, 0.0, 0.0, 0.0, 0.0, 3455433.070866142, 0.0, 0.0], \"yaxis\": \"y2\", \"type\": \"scatter\", \"uid\": \"f30c31e9-dce2-11e8-9057-a0afbde3f75b\"}], {\"title\": \"geoNetwork_region\", \"yaxis\": {\"rangemode\": \"tozero\", \"showgrid\": false, \"title\": \"count\"}, \"yaxis2\": {\"overlaying\": \"y\", \"rangemode\": \"tozero\", \"showgrid\": false, \"side\": \"right\", \"title\": \"revenue\"}}, {\"showLink\": true, \"linkText\": \"Export to plot.ly\"})});</script>"
      ],
      "text/vnd.plotly.v1+html": [
       "<div id=\"a5150e6c-8c8c-49d3-aabb-923ef0835cf5\" style=\"height: 525px; width: 100%;\" class=\"plotly-graph-div\"></div><script type=\"text/javascript\">require([\"plotly\"], function(Plotly) { window.PLOTLYENV=window.PLOTLYENV || {};window.PLOTLYENV.BASE_URL=\"https://plot.ly\";Plotly.newPlot(\"a5150e6c-8c8c-49d3-aabb-923ef0835cf5\", [{\"name\": \"count\", \"x\": [\"(not set)\", \"Abruzzo\", \"Abu Dhabi\", \"Adana\", \"Aichi Prefecture\", \"Al Madinah Province\", \"Alba County\", \"Alberta\", \"Alexandria Governorate\", \"Algiers Province\"], \"y\": [27827, 6, 95, 188, 8, 9, 21, 254, 52, 46], \"type\": \"bar\", \"uid\": \"f30c31e8-dce2-11e8-9057-a0afbde3f75b\"}, {\"name\": \"revenue\", \"x\": [\"(not set)\", \"Abruzzo\", \"Abu Dhabi\", \"Adana\", \"Aichi Prefecture\", \"Al Madinah Province\", \"Alba County\", \"Alberta\", \"Alexandria Governorate\", \"Algiers Province\"], \"y\": [190754.6627376289, 0.0, 0.0, 0.0, 0.0, 0.0, 0.0, 3455433.070866142, 0.0, 0.0], \"yaxis\": \"y2\", \"type\": \"scatter\", \"uid\": \"f30c31e9-dce2-11e8-9057-a0afbde3f75b\"}], {\"title\": \"geoNetwork_region\", \"yaxis\": {\"rangemode\": \"tozero\", \"showgrid\": false, \"title\": \"count\"}, \"yaxis2\": {\"overlaying\": \"y\", \"rangemode\": \"tozero\", \"showgrid\": false, \"side\": \"right\", \"title\": \"revenue\"}}, {\"showLink\": true, \"linkText\": \"Export to plot.ly\"})});</script>"
      ]
     },
     "metadata": {},
     "output_type": "display_data"
    },
    {
     "data": {
      "application/vnd.plotly.v1+json": {
       "data": [
        {
         "name": "count",
         "type": "bar",
         "uid": "f5756102-dce2-11e8-9057-a0afbde3f75b",
         "x": [
          "(not set)",
          "Australasia",
          "Caribbean",
          "Central America",
          "Central Asia",
          "Eastern Africa",
          "Eastern Asia",
          "Eastern Europe",
          "Melanesia",
          "Micronesian Region"
         ],
         "y": [
          1468,
          14893,
          2406,
          15583,
          1215,
          1927,
          46919,
          45249,
          81,
          55
         ]
        },
        {
         "name": "revenue",
         "type": "scatter",
         "uid": "f5756103-dce2-11e8-9057-a0afbde3f75b",
         "x": [
          "(not set)",
          "Australasia",
          "Caribbean",
          "Central America",
          "Central Asia",
          "Eastern Africa",
          "Eastern Asia",
          "Eastern Europe",
          "Melanesia",
          "Micronesian Region"
         ],
         "y": [
          524373.2970027248,
          120407.57402806688,
          649854.5303408146,
          122283.89912083681,
          28790.123456790123,
          2734146.3414634145,
          236049.78793239413,
          20924.21931976397,
          0,
          0
         ],
         "yaxis": "y2"
        }
       ],
       "layout": {
        "title": "geoNetwork_subContinent",
        "yaxis": {
         "rangemode": "tozero",
         "showgrid": false,
         "title": "count"
        },
        "yaxis2": {
         "overlaying": "y",
         "rangemode": "tozero",
         "showgrid": false,
         "side": "right",
         "title": "revenue"
        }
       }
      },
      "text/html": [
       "<div id=\"1d29a08a-d4a8-4381-bad1-f87c6e8c7581\" style=\"height: 525px; width: 100%;\" class=\"plotly-graph-div\"></div><script type=\"text/javascript\">require([\"plotly\"], function(Plotly) { window.PLOTLYENV=window.PLOTLYENV || {};window.PLOTLYENV.BASE_URL=\"https://plot.ly\";Plotly.newPlot(\"1d29a08a-d4a8-4381-bad1-f87c6e8c7581\", [{\"name\": \"count\", \"x\": [\"(not set)\", \"Australasia\", \"Caribbean\", \"Central America\", \"Central Asia\", \"Eastern Africa\", \"Eastern Asia\", \"Eastern Europe\", \"Melanesia\", \"Micronesian Region\"], \"y\": [1468, 14893, 2406, 15583, 1215, 1927, 46919, 45249, 81, 55], \"type\": \"bar\", \"uid\": \"f5756102-dce2-11e8-9057-a0afbde3f75b\"}, {\"name\": \"revenue\", \"x\": [\"(not set)\", \"Australasia\", \"Caribbean\", \"Central America\", \"Central Asia\", \"Eastern Africa\", \"Eastern Asia\", \"Eastern Europe\", \"Melanesia\", \"Micronesian Region\"], \"y\": [524373.2970027248, 120407.57402806688, 649854.5303408146, 122283.89912083681, 28790.123456790123, 2734146.3414634145, 236049.78793239413, 20924.21931976397, 0.0, 0.0], \"yaxis\": \"y2\", \"type\": \"scatter\", \"uid\": \"f5756103-dce2-11e8-9057-a0afbde3f75b\"}], {\"title\": \"geoNetwork_subContinent\", \"yaxis\": {\"rangemode\": \"tozero\", \"showgrid\": false, \"title\": \"count\"}, \"yaxis2\": {\"overlaying\": \"y\", \"rangemode\": \"tozero\", \"showgrid\": false, \"side\": \"right\", \"title\": \"revenue\"}}, {\"showLink\": true, \"linkText\": \"Export to plot.ly\"})});</script>"
      ],
      "text/vnd.plotly.v1+html": [
       "<div id=\"1d29a08a-d4a8-4381-bad1-f87c6e8c7581\" style=\"height: 525px; width: 100%;\" class=\"plotly-graph-div\"></div><script type=\"text/javascript\">require([\"plotly\"], function(Plotly) { window.PLOTLYENV=window.PLOTLYENV || {};window.PLOTLYENV.BASE_URL=\"https://plot.ly\";Plotly.newPlot(\"1d29a08a-d4a8-4381-bad1-f87c6e8c7581\", [{\"name\": \"count\", \"x\": [\"(not set)\", \"Australasia\", \"Caribbean\", \"Central America\", \"Central Asia\", \"Eastern Africa\", \"Eastern Asia\", \"Eastern Europe\", \"Melanesia\", \"Micronesian Region\"], \"y\": [1468, 14893, 2406, 15583, 1215, 1927, 46919, 45249, 81, 55], \"type\": \"bar\", \"uid\": \"f5756102-dce2-11e8-9057-a0afbde3f75b\"}, {\"name\": \"revenue\", \"x\": [\"(not set)\", \"Australasia\", \"Caribbean\", \"Central America\", \"Central Asia\", \"Eastern Africa\", \"Eastern Asia\", \"Eastern Europe\", \"Melanesia\", \"Micronesian Region\"], \"y\": [524373.2970027248, 120407.57402806688, 649854.5303408146, 122283.89912083681, 28790.123456790123, 2734146.3414634145, 236049.78793239413, 20924.21931976397, 0.0, 0.0], \"yaxis\": \"y2\", \"type\": \"scatter\", \"uid\": \"f5756103-dce2-11e8-9057-a0afbde3f75b\"}], {\"title\": \"geoNetwork_subContinent\", \"yaxis\": {\"rangemode\": \"tozero\", \"showgrid\": false, \"title\": \"count\"}, \"yaxis2\": {\"overlaying\": \"y\", \"rangemode\": \"tozero\", \"showgrid\": false, \"side\": \"right\", \"title\": \"revenue\"}}, {\"showLink\": true, \"linkText\": \"Export to plot.ly\"})});</script>"
      ]
     },
     "metadata": {},
     "output_type": "display_data"
    }
   ],
   "source": [
    "for i in geoNetwork_cols:\n",
    "    cnt_cat = train[i].value_counts().sort_index().head(n=10)\n",
    "    trans_cat = train.sort_values(i).groupby(i, as_index = False)['totals_transactionRevenue'].mean().head(n=10)\n",
    "    cnt_cat_x = cnt_cat.index.tolist()\n",
    "    cnt_cat_y = cnt_cat.values.tolist()\n",
    "    trans_cat_x = trans_cat[i].tolist()\n",
    "    trans_cat_y = trans_cat['totals_transactionRevenue'].tolist()\n",
    "    trace1 = go.Bar(x=cnt_cat_x,y=cnt_cat_y, name = \"count\")\n",
    "    trace2 = go.Scatter(x=trans_cat_x, y = trans_cat_y, name = \"revenue\", yaxis = 'y2')\n",
    "    data = [trace1, trace2]\n",
    "    layout = go.Layout(\n",
    "        title = i,\n",
    "        yaxis = dict(\n",
    "            title = \"count\",\n",
    "            rangemode = 'tozero',\n",
    "            showgrid = False\n",
    "        ),\n",
    "        yaxis2 = dict(\n",
    "            title = \"revenue\",\n",
    "            showgrid = False,\n",
    "            overlaying = \"y\",\n",
    "            rangemode = 'tozero', # rangemode used for aligning\n",
    "            side=\"right\")\n",
    "    )\n",
    "    fig = go.Figure(data=data, layout=layout)\n",
    "    #fig.append_trace()\n",
    "    #arr.append(fig1)\n",
    "    iplot(fig)\n",
    "#fig.append_trace(arr[0], 1, 1)\n",
    "#fig.append_trace(arr[1], 1, 2)\n",
    "#fig.append_trace(arr[2], 1, 3)\n",
    "\n",
    "#    fig = go.Figure(data=data, layout=layout)\n",
    "#iplot(fig)"
   ]
  },
  {
   "cell_type": "code",
   "execution_count": 334,
   "metadata": {},
   "outputs": [
    {
     "data": {
      "application/vnd.plotly.v1+json": {
       "data": [
        {
         "name": "count",
         "type": "bar",
         "uid": "4640ed40-dce3-11e8-9057-a0afbde3f75b",
         "x": [
          0,
          1
         ],
         "y": [
          200593,
          703060
         ]
        },
        {
         "name": "revenue",
         "type": "scatter",
         "uid": "4640ed41-dce3-11e8-9057-a0afbde3f75b",
         "x": [
          0,
          1
         ],
         "y": [
          5771613.565777469,
          543802.7479873695
         ],
         "yaxis": "y2"
        }
       ],
       "layout": {
        "title": "totals_isNewVisit",
        "yaxis": {
         "rangemode": "tozero",
         "showgrid": false,
         "title": "count"
        },
        "yaxis2": {
         "overlaying": "y",
         "rangemode": "tozero",
         "showgrid": false,
         "side": "right",
         "title": "revenue"
        }
       }
      },
      "text/html": [
       "<div id=\"0fb18552-ed47-4c8c-b063-9f53cf2787f2\" style=\"height: 525px; width: 100%;\" class=\"plotly-graph-div\"></div><script type=\"text/javascript\">require([\"plotly\"], function(Plotly) { window.PLOTLYENV=window.PLOTLYENV || {};window.PLOTLYENV.BASE_URL=\"https://plot.ly\";Plotly.newPlot(\"0fb18552-ed47-4c8c-b063-9f53cf2787f2\", [{\"name\": \"count\", \"x\": [0, 1], \"y\": [200593, 703060], \"type\": \"bar\", \"uid\": \"4640ed40-dce3-11e8-9057-a0afbde3f75b\"}, {\"name\": \"revenue\", \"x\": [0, 1], \"y\": [5771613.565777469, 543802.7479873695], \"yaxis\": \"y2\", \"type\": \"scatter\", \"uid\": \"4640ed41-dce3-11e8-9057-a0afbde3f75b\"}], {\"title\": \"totals_isNewVisit\", \"yaxis\": {\"rangemode\": \"tozero\", \"showgrid\": false, \"title\": \"count\"}, \"yaxis2\": {\"overlaying\": \"y\", \"rangemode\": \"tozero\", \"showgrid\": false, \"side\": \"right\", \"title\": \"revenue\"}}, {\"showLink\": true, \"linkText\": \"Export to plot.ly\"})});</script>"
      ],
      "text/vnd.plotly.v1+html": [
       "<div id=\"0fb18552-ed47-4c8c-b063-9f53cf2787f2\" style=\"height: 525px; width: 100%;\" class=\"plotly-graph-div\"></div><script type=\"text/javascript\">require([\"plotly\"], function(Plotly) { window.PLOTLYENV=window.PLOTLYENV || {};window.PLOTLYENV.BASE_URL=\"https://plot.ly\";Plotly.newPlot(\"0fb18552-ed47-4c8c-b063-9f53cf2787f2\", [{\"name\": \"count\", \"x\": [0, 1], \"y\": [200593, 703060], \"type\": \"bar\", \"uid\": \"4640ed40-dce3-11e8-9057-a0afbde3f75b\"}, {\"name\": \"revenue\", \"x\": [0, 1], \"y\": [5771613.565777469, 543802.7479873695], \"yaxis\": \"y2\", \"type\": \"scatter\", \"uid\": \"4640ed41-dce3-11e8-9057-a0afbde3f75b\"}], {\"title\": \"totals_isNewVisit\", \"yaxis\": {\"rangemode\": \"tozero\", \"showgrid\": false, \"title\": \"count\"}, \"yaxis2\": {\"overlaying\": \"y\", \"rangemode\": \"tozero\", \"showgrid\": false, \"side\": \"right\", \"title\": \"revenue\"}}, {\"showLink\": true, \"linkText\": \"Export to plot.ly\"})});</script>"
      ]
     },
     "metadata": {},
     "output_type": "display_data"
    }
   ],
   "source": [
    "for i in totals_cols:\n",
    "    cnt_cat = train[i].value_counts().sort_index().head(n=10)\n",
    "    trans_cat = train.sort_values(i).groupby(i, as_index = False)['totals_transactionRevenue'].mean().head(n=10)\n",
    "    cnt_cat_x = cnt_cat.index.tolist()\n",
    "    cnt_cat_y = cnt_cat.values.tolist()\n",
    "    trans_cat_x = trans_cat[i].tolist()\n",
    "    trans_cat_y = trans_cat['totals_transactionRevenue'].tolist()\n",
    "    trace1 = go.Bar(x=cnt_cat_x,y=cnt_cat_y, name = \"count\")\n",
    "    trace2 = go.Scatter(x=trans_cat_x, y = trans_cat_y, name = \"revenue\", yaxis = 'y2')\n",
    "    data = [trace1, trace2]\n",
    "    layout = go.Layout(\n",
    "        title = i,\n",
    "        yaxis = dict(\n",
    "            title = \"count\",\n",
    "            rangemode = 'tozero',\n",
    "            showgrid = False\n",
    "        ),\n",
    "        yaxis2 = dict(\n",
    "            title = \"revenue\",\n",
    "            showgrid = False,\n",
    "            overlaying = \"y\",\n",
    "            rangemode = 'tozero', # rangemode used for aligning\n",
    "            side=\"right\")\n",
    "    )\n",
    "    fig = go.Figure(data=data, layout=layout)\n",
    "    #fig.append_trace()\n",
    "    #arr.append(fig1)\n",
    "    iplot(fig)\n",
    "#fig.append_trace(arr[0], 1, 1)\n",
    "#fig.append_trace(arr[1], 1, 2)"
   ]
  },
  {
   "cell_type": "code",
   "execution_count": 335,
   "metadata": {},
   "outputs": [
    {
     "data": {
      "application/vnd.plotly.v1+json": {
       "data": [
        {
         "name": "count",
         "type": "bar",
         "uid": "5d1185c0-dce3-11e8-9057-a0afbde3f75b",
         "x": [
          "(not set)",
          "AW - Accessories",
          "AW - Apparel",
          "AW - Dynamic Search Ads Whole Site",
          "AW - Electronics",
          "All Products",
          "Data Share",
          "Data Share Promo",
          "Retail (DO NOT EDIT owners nophakun and tianyu)",
          "test-liyuhz"
         ],
         "y": [
          865347,
          7070,
          46,
          14244,
          96,
          4,
          1,
          16403,
          50,
          392
         ]
        },
        {
         "name": "revenue",
         "type": "scatter",
         "uid": "5d1185c1-dce3-11e8-9057-a0afbde3f75b",
         "x": [
          "(not set)",
          "AW - Accessories",
          "AW - Apparel",
          "AW - Dynamic Search Ads Whole Site",
          "AW - Electronics",
          "All Products",
          "Data Share",
          "Data Share Promo",
          "Retail (DO NOT EDIT owners nophakun and tianyu)",
          "test-liyuhz"
         ],
         "y": [
          1729688.4602361827,
          2180738.330975955,
          1691739.1304347827,
          1904840.6346531874,
          0,
          0,
          0,
          36418.94775345973,
          459000,
          107142.85714285714
         ],
         "yaxis": "y2"
        }
       ],
       "layout": {
        "title": "trafficSource_campaign",
        "yaxis": {
         "rangemode": "tozero",
         "showgrid": false,
         "title": "count"
        },
        "yaxis2": {
         "overlaying": "y",
         "rangemode": "tozero",
         "showgrid": false,
         "side": "right",
         "title": "revenue"
        }
       }
      },
      "text/html": [
       "<div id=\"f872f966-dd65-4073-8b8f-a5c22a7f598a\" style=\"height: 525px; width: 100%;\" class=\"plotly-graph-div\"></div><script type=\"text/javascript\">require([\"plotly\"], function(Plotly) { window.PLOTLYENV=window.PLOTLYENV || {};window.PLOTLYENV.BASE_URL=\"https://plot.ly\";Plotly.newPlot(\"f872f966-dd65-4073-8b8f-a5c22a7f598a\", [{\"name\": \"count\", \"x\": [\"(not set)\", \"AW - Accessories\", \"AW - Apparel\", \"AW - Dynamic Search Ads Whole Site\", \"AW - Electronics\", \"All Products\", \"Data Share\", \"Data Share Promo\", \"Retail (DO NOT EDIT owners nophakun and tianyu)\", \"test-liyuhz\"], \"y\": [865347, 7070, 46, 14244, 96, 4, 1, 16403, 50, 392], \"type\": \"bar\", \"uid\": \"5d1185c0-dce3-11e8-9057-a0afbde3f75b\"}, {\"name\": \"revenue\", \"x\": [\"(not set)\", \"AW - Accessories\", \"AW - Apparel\", \"AW - Dynamic Search Ads Whole Site\", \"AW - Electronics\", \"All Products\", \"Data Share\", \"Data Share Promo\", \"Retail (DO NOT EDIT owners nophakun and tianyu)\", \"test-liyuhz\"], \"y\": [1729688.4602361827, 2180738.330975955, 1691739.1304347827, 1904840.6346531874, 0.0, 0.0, 0.0, 36418.94775345973, 459000.0, 107142.85714285714], \"yaxis\": \"y2\", \"type\": \"scatter\", \"uid\": \"5d1185c1-dce3-11e8-9057-a0afbde3f75b\"}], {\"title\": \"trafficSource_campaign\", \"yaxis\": {\"rangemode\": \"tozero\", \"showgrid\": false, \"title\": \"count\"}, \"yaxis2\": {\"overlaying\": \"y\", \"rangemode\": \"tozero\", \"showgrid\": false, \"side\": \"right\", \"title\": \"revenue\"}}, {\"showLink\": true, \"linkText\": \"Export to plot.ly\"})});</script>"
      ],
      "text/vnd.plotly.v1+html": [
       "<div id=\"f872f966-dd65-4073-8b8f-a5c22a7f598a\" style=\"height: 525px; width: 100%;\" class=\"plotly-graph-div\"></div><script type=\"text/javascript\">require([\"plotly\"], function(Plotly) { window.PLOTLYENV=window.PLOTLYENV || {};window.PLOTLYENV.BASE_URL=\"https://plot.ly\";Plotly.newPlot(\"f872f966-dd65-4073-8b8f-a5c22a7f598a\", [{\"name\": \"count\", \"x\": [\"(not set)\", \"AW - Accessories\", \"AW - Apparel\", \"AW - Dynamic Search Ads Whole Site\", \"AW - Electronics\", \"All Products\", \"Data Share\", \"Data Share Promo\", \"Retail (DO NOT EDIT owners nophakun and tianyu)\", \"test-liyuhz\"], \"y\": [865347, 7070, 46, 14244, 96, 4, 1, 16403, 50, 392], \"type\": \"bar\", \"uid\": \"5d1185c0-dce3-11e8-9057-a0afbde3f75b\"}, {\"name\": \"revenue\", \"x\": [\"(not set)\", \"AW - Accessories\", \"AW - Apparel\", \"AW - Dynamic Search Ads Whole Site\", \"AW - Electronics\", \"All Products\", \"Data Share\", \"Data Share Promo\", \"Retail (DO NOT EDIT owners nophakun and tianyu)\", \"test-liyuhz\"], \"y\": [1729688.4602361827, 2180738.330975955, 1691739.1304347827, 1904840.6346531874, 0.0, 0.0, 0.0, 36418.94775345973, 459000.0, 107142.85714285714], \"yaxis\": \"y2\", \"type\": \"scatter\", \"uid\": \"5d1185c1-dce3-11e8-9057-a0afbde3f75b\"}], {\"title\": \"trafficSource_campaign\", \"yaxis\": {\"rangemode\": \"tozero\", \"showgrid\": false, \"title\": \"count\"}, \"yaxis2\": {\"overlaying\": \"y\", \"rangemode\": \"tozero\", \"showgrid\": false, \"side\": \"right\", \"title\": \"revenue\"}}, {\"showLink\": true, \"linkText\": \"Export to plot.ly\"})});</script>"
      ]
     },
     "metadata": {},
     "output_type": "display_data"
    },
    {
     "data": {
      "application/vnd.plotly.v1+json": {
       "data": [
        {
         "name": "count",
         "type": "bar",
         "uid": "5ec7c172-dce3-11e8-9057-a0afbde3f75b",
         "x": [
          "(none)",
          "(not set)",
          "affiliate",
          "cpc",
          "cpm",
          "organic",
          "referral"
         ],
         "y": [
          143026,
          120,
          16403,
          25326,
          6262,
          381561,
          330955
         ]
        },
        {
         "name": "revenue",
         "type": "scatter",
         "uid": "5ec7c173-dce3-11e8-9057-a0afbde3f75b",
         "x": [
          "(none)",
          "(not set)",
          "affiliate",
          "cpc",
          "cpm",
          "organic",
          "referral"
         ],
         "y": [
          3040290.226951743,
          83250,
          36418.94775345973,
          1719928.1370923163,
          12509974.449057808,
          855382.258668994,
          1983189.4064147694
         ],
         "yaxis": "y2"
        }
       ],
       "layout": {
        "title": "trafficSource_medium",
        "yaxis": {
         "rangemode": "tozero",
         "showgrid": false,
         "title": "count"
        },
        "yaxis2": {
         "overlaying": "y",
         "rangemode": "tozero",
         "showgrid": false,
         "side": "right",
         "title": "revenue"
        }
       }
      },
      "text/html": [
       "<div id=\"18f7b26b-e396-4222-8b88-d27267abed62\" style=\"height: 525px; width: 100%;\" class=\"plotly-graph-div\"></div><script type=\"text/javascript\">require([\"plotly\"], function(Plotly) { window.PLOTLYENV=window.PLOTLYENV || {};window.PLOTLYENV.BASE_URL=\"https://plot.ly\";Plotly.newPlot(\"18f7b26b-e396-4222-8b88-d27267abed62\", [{\"name\": \"count\", \"x\": [\"(none)\", \"(not set)\", \"affiliate\", \"cpc\", \"cpm\", \"organic\", \"referral\"], \"y\": [143026, 120, 16403, 25326, 6262, 381561, 330955], \"type\": \"bar\", \"uid\": \"5ec7c172-dce3-11e8-9057-a0afbde3f75b\"}, {\"name\": \"revenue\", \"x\": [\"(none)\", \"(not set)\", \"affiliate\", \"cpc\", \"cpm\", \"organic\", \"referral\"], \"y\": [3040290.226951743, 83250.0, 36418.94775345973, 1719928.1370923163, 12509974.449057808, 855382.258668994, 1983189.4064147694], \"yaxis\": \"y2\", \"type\": \"scatter\", \"uid\": \"5ec7c173-dce3-11e8-9057-a0afbde3f75b\"}], {\"title\": \"trafficSource_medium\", \"yaxis\": {\"rangemode\": \"tozero\", \"showgrid\": false, \"title\": \"count\"}, \"yaxis2\": {\"overlaying\": \"y\", \"rangemode\": \"tozero\", \"showgrid\": false, \"side\": \"right\", \"title\": \"revenue\"}}, {\"showLink\": true, \"linkText\": \"Export to plot.ly\"})});</script>"
      ],
      "text/vnd.plotly.v1+html": [
       "<div id=\"18f7b26b-e396-4222-8b88-d27267abed62\" style=\"height: 525px; width: 100%;\" class=\"plotly-graph-div\"></div><script type=\"text/javascript\">require([\"plotly\"], function(Plotly) { window.PLOTLYENV=window.PLOTLYENV || {};window.PLOTLYENV.BASE_URL=\"https://plot.ly\";Plotly.newPlot(\"18f7b26b-e396-4222-8b88-d27267abed62\", [{\"name\": \"count\", \"x\": [\"(none)\", \"(not set)\", \"affiliate\", \"cpc\", \"cpm\", \"organic\", \"referral\"], \"y\": [143026, 120, 16403, 25326, 6262, 381561, 330955], \"type\": \"bar\", \"uid\": \"5ec7c172-dce3-11e8-9057-a0afbde3f75b\"}, {\"name\": \"revenue\", \"x\": [\"(none)\", \"(not set)\", \"affiliate\", \"cpc\", \"cpm\", \"organic\", \"referral\"], \"y\": [3040290.226951743, 83250.0, 36418.94775345973, 1719928.1370923163, 12509974.449057808, 855382.258668994, 1983189.4064147694], \"yaxis\": \"y2\", \"type\": \"scatter\", \"uid\": \"5ec7c173-dce3-11e8-9057-a0afbde3f75b\"}], {\"title\": \"trafficSource_medium\", \"yaxis\": {\"rangemode\": \"tozero\", \"showgrid\": false, \"title\": \"count\"}, \"yaxis2\": {\"overlaying\": \"y\", \"rangemode\": \"tozero\", \"showgrid\": false, \"side\": \"right\", \"title\": \"revenue\"}}, {\"showLink\": true, \"linkText\": \"Export to plot.ly\"})});</script>"
      ]
     },
     "metadata": {},
     "output_type": "display_data"
    },
    {
     "data": {
      "application/vnd.plotly.v1+json": {
       "data": [
        {
         "name": "count",
         "type": "bar",
         "uid": "60b116f0-dce3-11e8-9057-a0afbde3f75b",
         "x": [
          "(direct)",
          "(not set)",
          "0.muppet1.frontend.gws.muppet-exp.ij-q.borg.google.com:14634",
          "0.shared.bow.cat2.ads-bow.lf.borg.google.com:9817",
          "0.shared.bow.cat2.ads-bow.lf.borg.google.com:9824",
          "0.shared.bow.cat2.ads-bow.lf.borg.google.com:9857",
          "0.shared.bow.cat2.ads-bow.lf.borg.google.com:9860",
          "0.shared.bow.cat2.ads-bow.lf.borg.google.com:9879",
          "0.shared.bow.cat2.ads-bow.lf.borg.google.com:9898",
          "0.shared.bow.cat2.ads-bow.qk.borg.google.com:9801"
         ],
         "y": [
          143028,
          69,
          1,
          1,
          1,
          1,
          1,
          1,
          2,
          1
         ]
        },
        {
         "name": "revenue",
         "type": "scatter",
         "uid": "60b116f1-dce3-11e8-9057-a0afbde3f75b",
         "x": [
          "(direct)",
          "(not set)",
          "0.muppet1.frontend.gws.muppet-exp.ij-q.borg.google.com:14634",
          "0.shared.bow.cat2.ads-bow.lf.borg.google.com:9817",
          "0.shared.bow.cat2.ads-bow.lf.borg.google.com:9824",
          "0.shared.bow.cat2.ads-bow.lf.borg.google.com:9857",
          "0.shared.bow.cat2.ads-bow.lf.borg.google.com:9860",
          "0.shared.bow.cat2.ads-bow.lf.borg.google.com:9879",
          "0.shared.bow.cat2.ads-bow.lf.borg.google.com:9898",
          "0.shared.bow.cat2.ads-bow.qk.borg.google.com:9801"
         ],
         "y": [
          3040247.713734374,
          0,
          0,
          0,
          0,
          0,
          0,
          0,
          0,
          0
         ],
         "yaxis": "y2"
        }
       ],
       "layout": {
        "title": "trafficSource_source",
        "yaxis": {
         "rangemode": "tozero",
         "showgrid": false,
         "title": "count"
        },
        "yaxis2": {
         "overlaying": "y",
         "rangemode": "tozero",
         "showgrid": false,
         "side": "right",
         "title": "revenue"
        }
       }
      },
      "text/html": [
       "<div id=\"629242c0-0062-4343-ad41-d6906bf53c9d\" style=\"height: 525px; width: 100%;\" class=\"plotly-graph-div\"></div><script type=\"text/javascript\">require([\"plotly\"], function(Plotly) { window.PLOTLYENV=window.PLOTLYENV || {};window.PLOTLYENV.BASE_URL=\"https://plot.ly\";Plotly.newPlot(\"629242c0-0062-4343-ad41-d6906bf53c9d\", [{\"name\": \"count\", \"x\": [\"(direct)\", \"(not set)\", \"0.muppet1.frontend.gws.muppet-exp.ij-q.borg.google.com:14634\", \"0.shared.bow.cat2.ads-bow.lf.borg.google.com:9817\", \"0.shared.bow.cat2.ads-bow.lf.borg.google.com:9824\", \"0.shared.bow.cat2.ads-bow.lf.borg.google.com:9857\", \"0.shared.bow.cat2.ads-bow.lf.borg.google.com:9860\", \"0.shared.bow.cat2.ads-bow.lf.borg.google.com:9879\", \"0.shared.bow.cat2.ads-bow.lf.borg.google.com:9898\", \"0.shared.bow.cat2.ads-bow.qk.borg.google.com:9801\"], \"y\": [143028, 69, 1, 1, 1, 1, 1, 1, 2, 1], \"type\": \"bar\", \"uid\": \"60b116f0-dce3-11e8-9057-a0afbde3f75b\"}, {\"name\": \"revenue\", \"x\": [\"(direct)\", \"(not set)\", \"0.muppet1.frontend.gws.muppet-exp.ij-q.borg.google.com:14634\", \"0.shared.bow.cat2.ads-bow.lf.borg.google.com:9817\", \"0.shared.bow.cat2.ads-bow.lf.borg.google.com:9824\", \"0.shared.bow.cat2.ads-bow.lf.borg.google.com:9857\", \"0.shared.bow.cat2.ads-bow.lf.borg.google.com:9860\", \"0.shared.bow.cat2.ads-bow.lf.borg.google.com:9879\", \"0.shared.bow.cat2.ads-bow.lf.borg.google.com:9898\", \"0.shared.bow.cat2.ads-bow.qk.borg.google.com:9801\"], \"y\": [3040247.713734374, 0.0, 0.0, 0.0, 0.0, 0.0, 0.0, 0.0, 0.0, 0.0], \"yaxis\": \"y2\", \"type\": \"scatter\", \"uid\": \"60b116f1-dce3-11e8-9057-a0afbde3f75b\"}], {\"title\": \"trafficSource_source\", \"yaxis\": {\"rangemode\": \"tozero\", \"showgrid\": false, \"title\": \"count\"}, \"yaxis2\": {\"overlaying\": \"y\", \"rangemode\": \"tozero\", \"showgrid\": false, \"side\": \"right\", \"title\": \"revenue\"}}, {\"showLink\": true, \"linkText\": \"Export to plot.ly\"})});</script>"
      ],
      "text/vnd.plotly.v1+html": [
       "<div id=\"629242c0-0062-4343-ad41-d6906bf53c9d\" style=\"height: 525px; width: 100%;\" class=\"plotly-graph-div\"></div><script type=\"text/javascript\">require([\"plotly\"], function(Plotly) { window.PLOTLYENV=window.PLOTLYENV || {};window.PLOTLYENV.BASE_URL=\"https://plot.ly\";Plotly.newPlot(\"629242c0-0062-4343-ad41-d6906bf53c9d\", [{\"name\": \"count\", \"x\": [\"(direct)\", \"(not set)\", \"0.muppet1.frontend.gws.muppet-exp.ij-q.borg.google.com:14634\", \"0.shared.bow.cat2.ads-bow.lf.borg.google.com:9817\", \"0.shared.bow.cat2.ads-bow.lf.borg.google.com:9824\", \"0.shared.bow.cat2.ads-bow.lf.borg.google.com:9857\", \"0.shared.bow.cat2.ads-bow.lf.borg.google.com:9860\", \"0.shared.bow.cat2.ads-bow.lf.borg.google.com:9879\", \"0.shared.bow.cat2.ads-bow.lf.borg.google.com:9898\", \"0.shared.bow.cat2.ads-bow.qk.borg.google.com:9801\"], \"y\": [143028, 69, 1, 1, 1, 1, 1, 1, 2, 1], \"type\": \"bar\", \"uid\": \"60b116f0-dce3-11e8-9057-a0afbde3f75b\"}, {\"name\": \"revenue\", \"x\": [\"(direct)\", \"(not set)\", \"0.muppet1.frontend.gws.muppet-exp.ij-q.borg.google.com:14634\", \"0.shared.bow.cat2.ads-bow.lf.borg.google.com:9817\", \"0.shared.bow.cat2.ads-bow.lf.borg.google.com:9824\", \"0.shared.bow.cat2.ads-bow.lf.borg.google.com:9857\", \"0.shared.bow.cat2.ads-bow.lf.borg.google.com:9860\", \"0.shared.bow.cat2.ads-bow.lf.borg.google.com:9879\", \"0.shared.bow.cat2.ads-bow.lf.borg.google.com:9898\", \"0.shared.bow.cat2.ads-bow.qk.borg.google.com:9801\"], \"y\": [3040247.713734374, 0.0, 0.0, 0.0, 0.0, 0.0, 0.0, 0.0, 0.0, 0.0], \"yaxis\": \"y2\", \"type\": \"scatter\", \"uid\": \"60b116f1-dce3-11e8-9057-a0afbde3f75b\"}], {\"title\": \"trafficSource_source\", \"yaxis\": {\"rangemode\": \"tozero\", \"showgrid\": false, \"title\": \"count\"}, \"yaxis2\": {\"overlaying\": \"y\", \"rangemode\": \"tozero\", \"showgrid\": false, \"side\": \"right\", \"title\": \"revenue\"}}, {\"showLink\": true, \"linkText\": \"Export to plot.ly\"})});</script>"
      ]
     },
     "metadata": {},
     "output_type": "display_data"
    }
   ],
   "source": [
    "for i in trafficSource_cols:\n",
    "    cnt_cat = train[i].value_counts().sort_index().head(n=10)\n",
    "    trans_cat = train.sort_values(i).groupby(i, as_index = False)['totals_transactionRevenue'].mean().head(n=10)\n",
    "    cnt_cat_x = cnt_cat.index.tolist()\n",
    "    cnt_cat_y = cnt_cat.values.tolist()\n",
    "    trans_cat_x = trans_cat[i].tolist()\n",
    "    trans_cat_y = trans_cat['totals_transactionRevenue'].tolist()\n",
    "    trace1 = go.Bar(x=cnt_cat_x,y=cnt_cat_y, name = \"count\")\n",
    "    trace2 = go.Scatter(x=trans_cat_x, y = trans_cat_y, name = \"revenue\", yaxis = 'y2')\n",
    "    data = [trace1, trace2]\n",
    "    layout = go.Layout(\n",
    "        title = i,\n",
    "        yaxis = dict(\n",
    "            title = \"count\",\n",
    "            rangemode = 'tozero',\n",
    "            showgrid = False\n",
    "        ),\n",
    "        yaxis2 = dict(\n",
    "            title = \"revenue\",\n",
    "            showgrid = False,\n",
    "            overlaying = \"y\",\n",
    "            rangemode = 'tozero', # rangemode used for aligning\n",
    "            side=\"right\")\n",
    "    )\n",
    "    fig = go.Figure(data=data, layout=layout)\n",
    "    #fig.append_trace()\n",
    "    #arr.append(fig1)\n",
    "    iplot(fig)\n",
    "#fig.append_trace(arr[0], 1, 1)\n",
    "#fig.append_trace(arr[1], 1, 2)"
   ]
  },
  {
   "cell_type": "code",
   "execution_count": 338,
   "metadata": {},
   "outputs": [
    {
     "data": {
      "application/vnd.plotly.v1+json": {
       "data": [
        {
         "name": "count",
         "type": "bar",
         "uid": "7b1c081a-dce3-11e8-9057-a0afbde3f75b",
         "x": [
          "Affiliates",
          "Direct",
          "Display",
          "Organic Search",
          "Other",
          "Paid Search",
          "Referral",
          "Social"
         ],
         "y": [
          16403,
          143026,
          6262,
          381561,
          120,
          25326,
          104838,
          226117
         ]
        },
        {
         "name": "revenue",
         "type": "scatter",
         "uid": "7b1c081b-dce3-11e8-9057-a0afbde3f75b",
         "x": [
          "Affiliates",
          "Direct",
          "Display",
          "Organic Search",
          "Other",
          "Paid Search",
          "Referral",
          "Social"
         ],
         "y": [
          36418.94775345973,
          3040290.226951743,
          12509974.449057808,
          855382.258668994,
          83250,
          1719928.1370923163,
          6213681.203380453,
          21743.345259312657
         ],
         "yaxis": "y2"
        }
       ],
       "layout": {
        "title": "channelGrouping",
        "yaxis": {
         "rangemode": "tozero",
         "showgrid": false,
         "title": "count"
        },
        "yaxis2": {
         "overlaying": "y",
         "rangemode": "tozero",
         "showgrid": false,
         "side": "right",
         "title": "revenue"
        }
       }
      },
      "text/html": [
       "<div id=\"c4276254-3ee9-48c6-9ff8-ce0efee29c96\" style=\"height: 525px; width: 100%;\" class=\"plotly-graph-div\"></div><script type=\"text/javascript\">require([\"plotly\"], function(Plotly) { window.PLOTLYENV=window.PLOTLYENV || {};window.PLOTLYENV.BASE_URL=\"https://plot.ly\";Plotly.newPlot(\"c4276254-3ee9-48c6-9ff8-ce0efee29c96\", [{\"name\": \"count\", \"x\": [\"Affiliates\", \"Direct\", \"Display\", \"Organic Search\", \"Other\", \"Paid Search\", \"Referral\", \"Social\"], \"y\": [16403, 143026, 6262, 381561, 120, 25326, 104838, 226117], \"type\": \"bar\", \"uid\": \"7b1c081a-dce3-11e8-9057-a0afbde3f75b\"}, {\"name\": \"revenue\", \"x\": [\"Affiliates\", \"Direct\", \"Display\", \"Organic Search\", \"Other\", \"Paid Search\", \"Referral\", \"Social\"], \"y\": [36418.94775345973, 3040290.226951743, 12509974.449057808, 855382.258668994, 83250.0, 1719928.1370923163, 6213681.203380453, 21743.345259312657], \"yaxis\": \"y2\", \"type\": \"scatter\", \"uid\": \"7b1c081b-dce3-11e8-9057-a0afbde3f75b\"}], {\"title\": \"channelGrouping\", \"yaxis\": {\"rangemode\": \"tozero\", \"showgrid\": false, \"title\": \"count\"}, \"yaxis2\": {\"overlaying\": \"y\", \"rangemode\": \"tozero\", \"showgrid\": false, \"side\": \"right\", \"title\": \"revenue\"}}, {\"showLink\": true, \"linkText\": \"Export to plot.ly\"})});</script>"
      ],
      "text/vnd.plotly.v1+html": [
       "<div id=\"c4276254-3ee9-48c6-9ff8-ce0efee29c96\" style=\"height: 525px; width: 100%;\" class=\"plotly-graph-div\"></div><script type=\"text/javascript\">require([\"plotly\"], function(Plotly) { window.PLOTLYENV=window.PLOTLYENV || {};window.PLOTLYENV.BASE_URL=\"https://plot.ly\";Plotly.newPlot(\"c4276254-3ee9-48c6-9ff8-ce0efee29c96\", [{\"name\": \"count\", \"x\": [\"Affiliates\", \"Direct\", \"Display\", \"Organic Search\", \"Other\", \"Paid Search\", \"Referral\", \"Social\"], \"y\": [16403, 143026, 6262, 381561, 120, 25326, 104838, 226117], \"type\": \"bar\", \"uid\": \"7b1c081a-dce3-11e8-9057-a0afbde3f75b\"}, {\"name\": \"revenue\", \"x\": [\"Affiliates\", \"Direct\", \"Display\", \"Organic Search\", \"Other\", \"Paid Search\", \"Referral\", \"Social\"], \"y\": [36418.94775345973, 3040290.226951743, 12509974.449057808, 855382.258668994, 83250.0, 1719928.1370923163, 6213681.203380453, 21743.345259312657], \"yaxis\": \"y2\", \"type\": \"scatter\", \"uid\": \"7b1c081b-dce3-11e8-9057-a0afbde3f75b\"}], {\"title\": \"channelGrouping\", \"yaxis\": {\"rangemode\": \"tozero\", \"showgrid\": false, \"title\": \"count\"}, \"yaxis2\": {\"overlaying\": \"y\", \"rangemode\": \"tozero\", \"showgrid\": false, \"side\": \"right\", \"title\": \"revenue\"}}, {\"showLink\": true, \"linkText\": \"Export to plot.ly\"})});</script>"
      ]
     },
     "metadata": {},
     "output_type": "display_data"
    }
   ],
   "source": [
    "for i in misc_cols:\n",
    "    cnt_cat = train[i].value_counts().sort_index().head(n=10)\n",
    "    trans_cat = train.sort_values(i).groupby(i, as_index = False)['totals_transactionRevenue'].mean().head(n=10)\n",
    "    cnt_cat_x = cnt_cat.index.tolist()\n",
    "    cnt_cat_y = cnt_cat.values.tolist()\n",
    "    trans_cat_x = trans_cat[i].tolist()\n",
    "    trans_cat_y = trans_cat['totals_transactionRevenue'].tolist()\n",
    "    trace1 = go.Bar(x=cnt_cat_x,y=cnt_cat_y, name = \"count\")\n",
    "    trace2 = go.Scatter(x=trans_cat_x, y = trans_cat_y, name = \"revenue\", yaxis = 'y2')\n",
    "    data = [trace1, trace2]\n",
    "    layout = go.Layout(\n",
    "        title = i,\n",
    "        yaxis = dict(\n",
    "            title = \"count\",\n",
    "            rangemode = 'tozero',\n",
    "            showgrid = False\n",
    "        ),\n",
    "        yaxis2 = dict(\n",
    "            title = \"revenue\",\n",
    "            showgrid = False,\n",
    "            overlaying = \"y\",\n",
    "            rangemode = 'tozero', # rangemode used for aligning\n",
    "            side=\"right\")\n",
    "    )\n",
    "    fig = go.Figure(data=data, layout=layout)\n",
    "    #fig.append_trace()\n",
    "    #arr.append(fig1)\n",
    "    iplot(fig)\n",
    "#fig.append_trace(arr[0], 1, 1)\n",
    "#fig.append_trace(arr[1], 1, 2)"
   ]
  },
  {
   "cell_type": "code",
   "execution_count": null,
   "metadata": {
    "collapsed": true
   },
   "outputs": [],
   "source": []
  }
 ],
 "metadata": {
  "kernelspec": {
   "display_name": "Python 3",
   "language": "python",
   "name": "python3"
  },
  "language_info": {
   "codemirror_mode": {
    "name": "ipython",
    "version": 3
   },
   "file_extension": ".py",
   "mimetype": "text/x-python",
   "name": "python",
   "nbconvert_exporter": "python",
   "pygments_lexer": "ipython3",
   "version": "3.6.3"
  }
 },
 "nbformat": 4,
 "nbformat_minor": 2
}
